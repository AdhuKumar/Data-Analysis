{
 "cells": [
  {
   "cell_type": "code",
   "execution_count": 3,
   "id": "9d2705fb-6eda-4e07-b1bd-f5fa97bb2b1e",
   "metadata": {},
   "outputs": [],
   "source": [
    "import pandas as pd\n",
    "import matplotlib as plt"
   ]
  },
  {
   "cell_type": "code",
   "execution_count": 4,
   "id": "86de8048-d582-4493-a731-e198aa10987c",
   "metadata": {},
   "outputs": [],
   "source": [
    "world = pd.read_csv(r\"/Users/adhukumara/Desktop/All course files/Python Section/2018-2019 Happiness.csv\")\n",
    "airbnb = pd.read_csv(r\"/Users/adhukumara/Desktop/All course files/Python Section/airbnb.csv\")\n",
    "salaries = pd.read_csv(r\"/Users/adhukumara/Desktop/All course files/Python Section/salaries.csv\")\n",
    "sales = pd.read_csv(r\"/Users/adhukumara/Desktop/All course files/Python Section/web_sales.csv\")"
   ]
  },
  {
   "cell_type": "code",
   "execution_count": 5,
   "id": "58954089-2a64-46bd-a997-37603b7e4abe",
   "metadata": {},
   "outputs": [
    {
     "name": "stdout",
     "output_type": "stream",
     "text": [
      "<class 'pandas.core.frame.DataFrame'>\n",
      "RangeIndex: 60398 entries, 0 to 60397\n",
      "Data columns (total 11 columns):\n",
      " #   Column                 Non-Null Count  Dtype  \n",
      "---  ------                 --------------  -----  \n",
      " 0   ProductKey             60398 non-null  int64  \n",
      " 1   product                60398 non-null  object \n",
      " 2   product_subcategory    60398 non-null  object \n",
      " 3   OrderDateKey           60398 non-null  int64  \n",
      " 4   CalendarYear           60398 non-null  int64  \n",
      " 5   SalesTerritoryRegion   60398 non-null  object \n",
      " 6   SalesTerritoryCountry  60398 non-null  object \n",
      " 7   SalesOrderNumber       60398 non-null  object \n",
      " 8   SalesAmount            60398 non-null  float64\n",
      " 9   TaxAmt                 60398 non-null  float64\n",
      " 10  Freight                60398 non-null  float64\n",
      "dtypes: float64(3), int64(3), object(5)\n",
      "memory usage: 5.1+ MB\n"
     ]
    }
   ],
   "source": [
    "sales.info()"
   ]
  },
  {
   "cell_type": "code",
   "execution_count": 8,
   "id": "249bce42-4d08-456a-84f8-600a3fc0fc3a",
   "metadata": {},
   "outputs": [
    {
     "data": {
      "text/plain": [
       "0        3578.2700\n",
       "1        3399.9900\n",
       "2        3399.9900\n",
       "3         699.0982\n",
       "4        3399.9900\n",
       "           ...    \n",
       "60393      21.9800\n",
       "60394       8.9900\n",
       "60395      21.9800\n",
       "60396     159.0000\n",
       "60397       8.9900\n",
       "Name: SalesAmount, Length: 60398, dtype: float64"
      ]
     },
     "execution_count": 8,
     "metadata": {},
     "output_type": "execute_result"
    }
   ],
   "source": [
    "sales.SalesAmount"
   ]
  },
  {
   "cell_type": "code",
   "execution_count": 10,
   "id": "86e1e5e8-d2e5-4bcc-a997-438443bbf1d5",
   "metadata": {},
   "outputs": [
    {
     "data": {
      "text/plain": [
       "0        3578.2700\n",
       "1        3399.9900\n",
       "2        3399.9900\n",
       "3         699.0982\n",
       "4        3399.9900\n",
       "           ...    \n",
       "60393      21.9800\n",
       "60394       8.9900\n",
       "60395      21.9800\n",
       "60396     159.0000\n",
       "60397       8.9900\n",
       "Name: SalesAmount, Length: 60398, dtype: float64"
      ]
     },
     "execution_count": 10,
     "metadata": {},
     "output_type": "execute_result"
    }
   ],
   "source": [
    "sales['SalesAmount']#can acess particular column"
   ]
  },
  {
   "cell_type": "code",
   "execution_count": 12,
   "id": "4854d211-0026-45c4-ba31-635d8347ed4f",
   "metadata": {},
   "outputs": [
    {
     "data": {
      "text/plain": [
       "Index(['Host Id', 'Host Since', 'Name', 'Neighbourhood', 'Property Type',\n",
       "       'Review Scores Rating (bin)', 'Room Type', 'Zipcode', 'Beds',\n",
       "       'Number of Records', 'Number Of Reviews', 'Price',\n",
       "       'Review Scores Rating'],\n",
       "      dtype='object')"
      ]
     },
     "execution_count": 12,
     "metadata": {},
     "output_type": "execute_result"
    }
   ],
   "source": [
    "airbnb.columns"
   ]
  },
  {
   "cell_type": "code",
   "execution_count": 16,
   "id": "fa671cad-0111-405c-aa55-60459eb53c8e",
   "metadata": {},
   "outputs": [
    {
     "data": {
      "text/html": [
       "<div>\n",
       "<style scoped>\n",
       "    .dataframe tbody tr th:only-of-type {\n",
       "        vertical-align: middle;\n",
       "    }\n",
       "\n",
       "    .dataframe tbody tr th {\n",
       "        vertical-align: top;\n",
       "    }\n",
       "\n",
       "    .dataframe thead th {\n",
       "        text-align: right;\n",
       "    }\n",
       "</style>\n",
       "<table border=\"1\" class=\"dataframe\">\n",
       "  <thead>\n",
       "    <tr style=\"text-align: right;\">\n",
       "      <th></th>\n",
       "      <th>Property Type</th>\n",
       "      <th>Room Type</th>\n",
       "      <th>Beds</th>\n",
       "    </tr>\n",
       "  </thead>\n",
       "  <tbody>\n",
       "    <tr>\n",
       "      <th>0</th>\n",
       "      <td>Apartment</td>\n",
       "      <td>Entire home/apt</td>\n",
       "      <td>1.0</td>\n",
       "    </tr>\n",
       "    <tr>\n",
       "      <th>1</th>\n",
       "      <td>Apartment</td>\n",
       "      <td>Private room</td>\n",
       "      <td>1.0</td>\n",
       "    </tr>\n",
       "    <tr>\n",
       "      <th>2</th>\n",
       "      <td>Apartment</td>\n",
       "      <td>Private room</td>\n",
       "      <td>1.0</td>\n",
       "    </tr>\n",
       "    <tr>\n",
       "      <th>3</th>\n",
       "      <td>Apartment</td>\n",
       "      <td>Entire home/apt</td>\n",
       "      <td>3.0</td>\n",
       "    </tr>\n",
       "    <tr>\n",
       "      <th>4</th>\n",
       "      <td>Apartment</td>\n",
       "      <td>Private room</td>\n",
       "      <td>3.0</td>\n",
       "    </tr>\n",
       "    <tr>\n",
       "      <th>...</th>\n",
       "      <td>...</td>\n",
       "      <td>...</td>\n",
       "      <td>...</td>\n",
       "    </tr>\n",
       "    <tr>\n",
       "      <th>30473</th>\n",
       "      <td>Apartment</td>\n",
       "      <td>Entire home/apt</td>\n",
       "      <td>5.0</td>\n",
       "    </tr>\n",
       "    <tr>\n",
       "      <th>30474</th>\n",
       "      <td>Apartment</td>\n",
       "      <td>Private room</td>\n",
       "      <td>2.0</td>\n",
       "    </tr>\n",
       "    <tr>\n",
       "      <th>30475</th>\n",
       "      <td>Other</td>\n",
       "      <td>Private room</td>\n",
       "      <td>1.0</td>\n",
       "    </tr>\n",
       "    <tr>\n",
       "      <th>30476</th>\n",
       "      <td>Apartment</td>\n",
       "      <td>Private room</td>\n",
       "      <td>1.0</td>\n",
       "    </tr>\n",
       "    <tr>\n",
       "      <th>30477</th>\n",
       "      <td>House</td>\n",
       "      <td>Private room</td>\n",
       "      <td>1.0</td>\n",
       "    </tr>\n",
       "  </tbody>\n",
       "</table>\n",
       "<p>30478 rows × 3 columns</p>\n",
       "</div>"
      ],
      "text/plain": [
       "      Property Type        Room Type  Beds\n",
       "0         Apartment  Entire home/apt   1.0\n",
       "1         Apartment     Private room   1.0\n",
       "2         Apartment     Private room   1.0\n",
       "3         Apartment  Entire home/apt   3.0\n",
       "4         Apartment     Private room   3.0\n",
       "...             ...              ...   ...\n",
       "30473     Apartment  Entire home/apt   5.0\n",
       "30474     Apartment     Private room   2.0\n",
       "30475         Other     Private room   1.0\n",
       "30476     Apartment     Private room   1.0\n",
       "30477         House     Private room   1.0\n",
       "\n",
       "[30478 rows x 3 columns]"
      ]
     },
     "execution_count": 16,
     "metadata": {},
     "output_type": "execute_result"
    }
   ],
   "source": [
    "airbnb[['Property Type', 'Room Type', 'Beds']]#column name"
   ]
  },
  {
   "cell_type": "code",
   "execution_count": 18,
   "id": "a6ceb996-f1f2-4567-9148-2f529ba05291",
   "metadata": {},
   "outputs": [
    {
     "data": {
      "text/plain": [
       "Index(['work_year', 'experience_level', 'employment_type', 'job_title',\n",
       "       'salary', 'salary_currency', 'salary_in_usd', 'employee_residence',\n",
       "       'remote_ratio', 'company_location', 'company_size'],\n",
       "      dtype='object')"
      ]
     },
     "execution_count": 18,
     "metadata": {},
     "output_type": "execute_result"
    }
   ],
   "source": [
    "salaries.columns"
   ]
  },
  {
   "cell_type": "code",
   "execution_count": 19,
   "id": "b5f85f2b-3c8a-460c-86ef-7143160bd89d",
   "metadata": {},
   "outputs": [
    {
     "data": {
      "text/html": [
       "<div>\n",
       "<style scoped>\n",
       "    .dataframe tbody tr th:only-of-type {\n",
       "        vertical-align: middle;\n",
       "    }\n",
       "\n",
       "    .dataframe tbody tr th {\n",
       "        vertical-align: top;\n",
       "    }\n",
       "\n",
       "    .dataframe thead th {\n",
       "        text-align: right;\n",
       "    }\n",
       "</style>\n",
       "<table border=\"1\" class=\"dataframe\">\n",
       "  <thead>\n",
       "    <tr style=\"text-align: right;\">\n",
       "      <th></th>\n",
       "      <th>experience_level</th>\n",
       "      <th>job_title</th>\n",
       "      <th>salary_in_usd</th>\n",
       "    </tr>\n",
       "  </thead>\n",
       "  <tbody>\n",
       "    <tr>\n",
       "      <th>0</th>\n",
       "      <td>EX</td>\n",
       "      <td>Data Science Director</td>\n",
       "      <td>212000</td>\n",
       "    </tr>\n",
       "    <tr>\n",
       "      <th>1</th>\n",
       "      <td>EX</td>\n",
       "      <td>Data Science Director</td>\n",
       "      <td>190000</td>\n",
       "    </tr>\n",
       "    <tr>\n",
       "      <th>2</th>\n",
       "      <td>MI</td>\n",
       "      <td>Business Intelligence Engineer</td>\n",
       "      <td>43064</td>\n",
       "    </tr>\n",
       "    <tr>\n",
       "      <th>3</th>\n",
       "      <td>MI</td>\n",
       "      <td>Business Intelligence Engineer</td>\n",
       "      <td>43064</td>\n",
       "    </tr>\n",
       "    <tr>\n",
       "      <th>4</th>\n",
       "      <td>SE</td>\n",
       "      <td>Machine Learning Engineer</td>\n",
       "      <td>245700</td>\n",
       "    </tr>\n",
       "    <tr>\n",
       "      <th>...</th>\n",
       "      <td>...</td>\n",
       "      <td>...</td>\n",
       "      <td>...</td>\n",
       "    </tr>\n",
       "    <tr>\n",
       "      <th>8800</th>\n",
       "      <td>SE</td>\n",
       "      <td>Data Scientist</td>\n",
       "      <td>412000</td>\n",
       "    </tr>\n",
       "    <tr>\n",
       "      <th>8801</th>\n",
       "      <td>MI</td>\n",
       "      <td>Principal Data Scientist</td>\n",
       "      <td>151000</td>\n",
       "    </tr>\n",
       "    <tr>\n",
       "      <th>8802</th>\n",
       "      <td>EN</td>\n",
       "      <td>Data Scientist</td>\n",
       "      <td>105000</td>\n",
       "    </tr>\n",
       "    <tr>\n",
       "      <th>8803</th>\n",
       "      <td>EN</td>\n",
       "      <td>Business Data Analyst</td>\n",
       "      <td>100000</td>\n",
       "    </tr>\n",
       "    <tr>\n",
       "      <th>8804</th>\n",
       "      <td>SE</td>\n",
       "      <td>Data Science Manager</td>\n",
       "      <td>94665</td>\n",
       "    </tr>\n",
       "  </tbody>\n",
       "</table>\n",
       "<p>8805 rows × 3 columns</p>\n",
       "</div>"
      ],
      "text/plain": [
       "     experience_level                       job_title  salary_in_usd\n",
       "0                  EX           Data Science Director         212000\n",
       "1                  EX           Data Science Director         190000\n",
       "2                  MI  Business Intelligence Engineer          43064\n",
       "3                  MI  Business Intelligence Engineer          43064\n",
       "4                  SE       Machine Learning Engineer         245700\n",
       "...               ...                             ...            ...\n",
       "8800               SE                  Data Scientist         412000\n",
       "8801               MI        Principal Data Scientist         151000\n",
       "8802               EN                  Data Scientist         105000\n",
       "8803               EN           Business Data Analyst         100000\n",
       "8804               SE            Data Science Manager          94665\n",
       "\n",
       "[8805 rows x 3 columns]"
      ]
     },
     "execution_count": 19,
     "metadata": {},
     "output_type": "execute_result"
    }
   ],
   "source": [
    "salaries[['experience_level','job_title','salary_in_usd']]"
   ]
  },
  {
   "cell_type": "code",
   "execution_count": 21,
   "id": "7818c40e-3c49-447d-801d-6b1ed2c4ed8a",
   "metadata": {},
   "outputs": [
    {
     "data": {
      "text/plain": [
       "0       212000\n",
       "1       190000\n",
       "2        43064\n",
       "3        43064\n",
       "4       245700\n",
       "         ...  \n",
       "8800    412000\n",
       "8801    151000\n",
       "8802    105000\n",
       "8803    100000\n",
       "8804     94665\n",
       "Name: salary_in_usd, Length: 8805, dtype: int64"
      ]
     },
     "execution_count": 21,
     "metadata": {},
     "output_type": "execute_result"
    }
   ],
   "source": [
    "salaries['salary_in_usd']"
   ]
  },
  {
   "cell_type": "code",
   "execution_count": 22,
   "id": "1b37617d-5625-4c07-a9b0-2b080f5c7883",
   "metadata": {},
   "outputs": [
    {
     "data": {
      "text/plain": [
       "149488.26564452017"
      ]
     },
     "execution_count": 22,
     "metadata": {},
     "output_type": "execute_result"
    }
   ],
   "source": [
    "salaries['salary_in_usd'].mean()"
   ]
  },
  {
   "cell_type": "code",
   "execution_count": 23,
   "id": "549a4c6c-5620-421c-90e9-bb7a10c4209c",
   "metadata": {},
   "outputs": [
    {
     "data": {
      "text/plain": [
       "615201"
      ]
     },
     "execution_count": 23,
     "metadata": {},
     "output_type": "execute_result"
    }
   ],
   "source": [
    "salaries['salary_in_usd'].max()"
   ]
  },
  {
   "cell_type": "code",
   "execution_count": 24,
   "id": "769bce1c-9a2d-4fcb-9eb0-e57c224982a3",
   "metadata": {},
   "outputs": [
    {
     "data": {
      "text/plain": [
       "15000"
      ]
     },
     "execution_count": 24,
     "metadata": {},
     "output_type": "execute_result"
    }
   ],
   "source": [
    "salaries['salary_in_usd'].min()"
   ]
  },
  {
   "cell_type": "code",
   "execution_count": 25,
   "id": "ac373175-1993-4a8a-857a-35febb01b7c3",
   "metadata": {},
   "outputs": [
    {
     "data": {
      "text/plain": [
       "1316244179"
      ]
     },
     "execution_count": 25,
     "metadata": {},
     "output_type": "execute_result"
    }
   ],
   "source": [
    "salaries['salary_in_usd'].sum()"
   ]
  },
  {
   "cell_type": "code",
   "execution_count": 26,
   "id": "a9597cf5-eece-4330-aad9-8349af224dcc",
   "metadata": {},
   "outputs": [
    {
     "data": {
      "text/plain": [
       "29358677.220699996"
      ]
     },
     "execution_count": 26,
     "metadata": {},
     "output_type": "execute_result"
    }
   ],
   "source": [
    "sales['SalesAmount'].sum()"
   ]
  },
  {
   "cell_type": "code",
   "execution_count": 28,
   "id": "9e4c7260-ae6a-4f92-8c02-a17bc297c522",
   "metadata": {},
   "outputs": [
    {
     "data": {
      "text/plain": [
       "ProductKey                                                        26427624\n",
       "product                  Road-150 Red, 62Mountain-100 Silver, 44Mountai...\n",
       "product_subcategory      Road BikesMountain BikesMountain BikesRoad Bik...\n",
       "OrderDateKey                                                 1215795730492\n",
       "CalendarYear                                                     121575273\n",
       "SalesTerritoryRegion     CanadaFranceNorthwestSouthwestAustraliaSouthwe...\n",
       "SalesTerritoryCountry    CanadaFranceUnited StatesUnited StatesAustrali...\n",
       "SalesOrderNumber         SO43697SO43698SO43699SO43700SO43701SO43702SO43...\n",
       "SalesAmount                                                  29358677.2207\n",
       "TaxAmt                                                        2348694.2301\n",
       "Freight                                                        733969.6091\n",
       "dtype: object"
      ]
     },
     "execution_count": 28,
     "metadata": {},
     "output_type": "execute_result"
    }
   ],
   "source": [
    "sales.sum()"
   ]
  },
  {
   "cell_type": "code",
   "execution_count": 29,
   "id": "797eaf1e-3457-425c-bee5-161cdda50595",
   "metadata": {},
   "outputs": [
    {
     "data": {
      "text/plain": [
       "ProductKey                                      606\n",
       "product                  Women's Mountain Shorts, S\n",
       "product_subcategory                           Vests\n",
       "OrderDateKey                               20140128\n",
       "CalendarYear                                   2014\n",
       "SalesTerritoryRegion                 United Kingdom\n",
       "SalesTerritoryCountry                 United States\n",
       "SalesOrderNumber                            SO75123\n",
       "SalesAmount                                 3578.27\n",
       "TaxAmt                                     286.2616\n",
       "Freight                                     89.4568\n",
       "dtype: object"
      ]
     },
     "execution_count": 29,
     "metadata": {},
     "output_type": "execute_result"
    }
   ],
   "source": [
    "sales.max()"
   ]
  },
  {
   "cell_type": "code",
   "execution_count": 30,
   "id": "497972cd-2be1-4692-84d5-6e47fb48b637",
   "metadata": {},
   "outputs": [
    {
     "data": {
      "text/plain": [
       "work_year                     2020\n",
       "experience_level                EN\n",
       "employment_type                 CT\n",
       "job_title             AI Architect\n",
       "salary                       14000\n",
       "salary_currency                AUD\n",
       "salary_in_usd                15000\n",
       "employee_residence              AD\n",
       "remote_ratio                     0\n",
       "company_location                AD\n",
       "company_size                     L\n",
       "dtype: object"
      ]
     },
     "execution_count": 30,
     "metadata": {},
     "output_type": "execute_result"
    }
   ],
   "source": [
    "salaries.min()"
   ]
  },
  {
   "cell_type": "code",
   "execution_count": 31,
   "id": "d866eb6a-0a13-4c1d-a286-0e04228650db",
   "metadata": {},
   "outputs": [
    {
     "data": {
      "text/plain": [
       "ProductKey      4.375579e+02\n",
       "OrderDateKey    2.012973e+07\n",
       "CalendarYear    2.012902e+03\n",
       "SalesAmount     4.860869e+02\n",
       "TaxAmt          3.888695e+01\n",
       "Freight         1.215222e+01\n",
       "dtype: float64"
      ]
     },
     "execution_count": 31,
     "metadata": {},
     "output_type": "execute_result"
    }
   ],
   "source": [
    "sales.mean(numeric_only = True)#only return numeric datatype"
   ]
  },
  {
   "cell_type": "code",
   "execution_count": 32,
   "id": "8c2025fa-1b21-4756-9942-cb34d95a8e48",
   "metadata": {},
   "outputs": [
    {
     "data": {
      "text/plain": [
       "486.0869"
      ]
     },
     "execution_count": 32,
     "metadata": {},
     "output_type": "execute_result"
    }
   ],
   "source": [
    "4.860869e+02"
   ]
  },
  {
   "cell_type": "code",
   "execution_count": 33,
   "id": "58b5dad1-d7ba-400a-89ed-b633f94df85c",
   "metadata": {},
   "outputs": [
    {
     "data": {
      "text/plain": [
       "Index(['ProductKey', 'product', 'product_subcategory', 'OrderDateKey',\n",
       "       'CalendarYear', 'SalesTerritoryRegion', 'SalesTerritoryCountry',\n",
       "       'SalesOrderNumber', 'SalesAmount', 'TaxAmt', 'Freight'],\n",
       "      dtype='object')"
      ]
     },
     "execution_count": 33,
     "metadata": {},
     "output_type": "execute_result"
    }
   ],
   "source": [
    "sales.columns"
   ]
  },
  {
   "cell_type": "code",
   "execution_count": 34,
   "id": "721998b3-5c4d-424c-8c77-85d33caeec66",
   "metadata": {},
   "outputs": [
    {
     "data": {
      "text/plain": [
       "0        3578.2700\n",
       "1        3399.9900\n",
       "2        3399.9900\n",
       "3         699.0982\n",
       "4        3399.9900\n",
       "           ...    \n",
       "60393      21.9800\n",
       "60394       8.9900\n",
       "60395      21.9800\n",
       "60396     159.0000\n",
       "60397       8.9900\n",
       "Name: SalesAmount, Length: 60398, dtype: float64"
      ]
     },
     "execution_count": 34,
     "metadata": {},
     "output_type": "execute_result"
    }
   ],
   "source": [
    "sales['SalesAmount']"
   ]
  },
  {
   "cell_type": "code",
   "execution_count": 35,
   "id": "2f48fedd-d5b2-40bb-b57e-3fcdc2b72bf0",
   "metadata": {},
   "outputs": [
    {
     "data": {
      "text/plain": [
       "928.4898919809369"
      ]
     },
     "execution_count": 35,
     "metadata": {},
     "output_type": "execute_result"
    }
   ],
   "source": [
    "sales['SalesAmount'].std()#standard deviation"
   ]
  },
  {
   "cell_type": "code",
   "execution_count": 36,
   "id": "457ec4c0-2546-4fbd-b4d9-06bb14fad7b8",
   "metadata": {},
   "outputs": [
    {
     "data": {
      "text/plain": [
       "486.0869105053147"
      ]
     },
     "execution_count": 36,
     "metadata": {},
     "output_type": "execute_result"
    }
   ],
   "source": [
    "sales['SalesAmount'].mean()"
   ]
  },
  {
   "cell_type": "code",
   "execution_count": 37,
   "id": "f406c206-1e37-4224-b6a5-1bf59b8017c3",
   "metadata": {},
   "outputs": [
    {
     "data": {
      "text/plain": [
       "0        1.0\n",
       "1        1.0\n",
       "2        1.0\n",
       "3        3.0\n",
       "4        3.0\n",
       "        ... \n",
       "30473    5.0\n",
       "30474    2.0\n",
       "30475    1.0\n",
       "30476    1.0\n",
       "30477    1.0\n",
       "Name: Beds, Length: 30478, dtype: float64"
      ]
     },
     "execution_count": 37,
     "metadata": {},
     "output_type": "execute_result"
    }
   ],
   "source": [
    "airbnb['Beds']"
   ]
  },
  {
   "cell_type": "code",
   "execution_count": 38,
   "id": "02f0d415-5201-442e-ac47-51e8a1eb40ff",
   "metadata": {},
   "outputs": [
    {
     "data": {
      "text/plain": [
       "1.0153587174802678"
      ]
     },
     "execution_count": 38,
     "metadata": {},
     "output_type": "execute_result"
    }
   ],
   "source": [
    "airbnb['Beds'].std()"
   ]
  },
  {
   "cell_type": "code",
   "execution_count": 39,
   "id": "0281d2d5-3227-4493-ace0-786ed3b1179b",
   "metadata": {},
   "outputs": [
    {
     "data": {
      "text/plain": [
       "30393"
      ]
     },
     "execution_count": 39,
     "metadata": {},
     "output_type": "execute_result"
    }
   ],
   "source": [
    "airbnb['Beds'].count()"
   ]
  },
  {
   "cell_type": "code",
   "execution_count": 40,
   "id": "d67e210d-db4f-4ff9-8ef0-cc646114c76b",
   "metadata": {},
   "outputs": [
    {
     "data": {
      "text/plain": [
       "(30478, 13)"
      ]
     },
     "execution_count": 40,
     "metadata": {},
     "output_type": "execute_result"
    }
   ],
   "source": [
    "airbnb.shape"
   ]
  },
  {
   "cell_type": "code",
   "execution_count": 42,
   "id": "50def7e4-e566-4c05-a022-65edd8f7170b",
   "metadata": {},
   "outputs": [
    {
     "data": {
      "text/plain": [
       "Host Id                       30478\n",
       "Host Since                    30475\n",
       "Name                          30478\n",
       "Neighbourhood                 30478\n",
       "Property Type                 30475\n",
       "Review Scores Rating (bin)    22155\n",
       "Room Type                     30478\n",
       "Zipcode                       30344\n",
       "Beds                          30393\n",
       "Number of Records             30478\n",
       "Number Of Reviews             30478\n",
       "Price                         30478\n",
       "Review Scores Rating          22155\n",
       "dtype: int64"
      ]
     },
     "execution_count": 42,
     "metadata": {},
     "output_type": "execute_result"
    }
   ],
   "source": [
    "airbnb.count()"
   ]
  },
  {
   "cell_type": "code",
   "execution_count": 43,
   "id": "ff834c83-7caf-4547-8642-6424ab0f81d7",
   "metadata": {},
   "outputs": [
    {
     "data": {
      "text/html": [
       "<div>\n",
       "<style scoped>\n",
       "    .dataframe tbody tr th:only-of-type {\n",
       "        vertical-align: middle;\n",
       "    }\n",
       "\n",
       "    .dataframe tbody tr th {\n",
       "        vertical-align: top;\n",
       "    }\n",
       "\n",
       "    .dataframe thead th {\n",
       "        text-align: right;\n",
       "    }\n",
       "</style>\n",
       "<table border=\"1\" class=\"dataframe\">\n",
       "  <thead>\n",
       "    <tr style=\"text-align: right;\">\n",
       "      <th></th>\n",
       "      <th>ProductKey</th>\n",
       "      <th>OrderDateKey</th>\n",
       "      <th>CalendarYear</th>\n",
       "      <th>SalesAmount</th>\n",
       "      <th>TaxAmt</th>\n",
       "      <th>Freight</th>\n",
       "    </tr>\n",
       "  </thead>\n",
       "  <tbody>\n",
       "    <tr>\n",
       "      <th>count</th>\n",
       "      <td>60398.000000</td>\n",
       "      <td>6.039800e+04</td>\n",
       "      <td>60398.000000</td>\n",
       "      <td>60398.000000</td>\n",
       "      <td>60398.000000</td>\n",
       "      <td>60398.000000</td>\n",
       "    </tr>\n",
       "    <tr>\n",
       "      <th>mean</th>\n",
       "      <td>437.557932</td>\n",
       "      <td>2.012973e+07</td>\n",
       "      <td>2012.902298</td>\n",
       "      <td>486.086911</td>\n",
       "      <td>38.886954</td>\n",
       "      <td>12.152217</td>\n",
       "    </tr>\n",
       "    <tr>\n",
       "      <th>std</th>\n",
       "      <td>118.088390</td>\n",
       "      <td>4.745050e+03</td>\n",
       "      <td>0.477666</td>\n",
       "      <td>928.489892</td>\n",
       "      <td>74.279193</td>\n",
       "      <td>23.212248</td>\n",
       "    </tr>\n",
       "    <tr>\n",
       "      <th>min</th>\n",
       "      <td>214.000000</td>\n",
       "      <td>2.010123e+07</td>\n",
       "      <td>2010.000000</td>\n",
       "      <td>2.290000</td>\n",
       "      <td>0.183200</td>\n",
       "      <td>0.057300</td>\n",
       "    </tr>\n",
       "    <tr>\n",
       "      <th>25%</th>\n",
       "      <td>359.000000</td>\n",
       "      <td>2.013040e+07</td>\n",
       "      <td>2013.000000</td>\n",
       "      <td>7.950000</td>\n",
       "      <td>0.636000</td>\n",
       "      <td>0.198800</td>\n",
       "    </tr>\n",
       "    <tr>\n",
       "      <th>50%</th>\n",
       "      <td>479.000000</td>\n",
       "      <td>2.013071e+07</td>\n",
       "      <td>2013.000000</td>\n",
       "      <td>29.990000</td>\n",
       "      <td>2.399200</td>\n",
       "      <td>0.749800</td>\n",
       "    </tr>\n",
       "    <tr>\n",
       "      <th>75%</th>\n",
       "      <td>529.000000</td>\n",
       "      <td>2.013102e+07</td>\n",
       "      <td>2013.000000</td>\n",
       "      <td>539.990000</td>\n",
       "      <td>43.199200</td>\n",
       "      <td>13.499800</td>\n",
       "    </tr>\n",
       "    <tr>\n",
       "      <th>max</th>\n",
       "      <td>606.000000</td>\n",
       "      <td>2.014013e+07</td>\n",
       "      <td>2014.000000</td>\n",
       "      <td>3578.270000</td>\n",
       "      <td>286.261600</td>\n",
       "      <td>89.456800</td>\n",
       "    </tr>\n",
       "  </tbody>\n",
       "</table>\n",
       "</div>"
      ],
      "text/plain": [
       "         ProductKey  OrderDateKey  CalendarYear   SalesAmount        TaxAmt  \\\n",
       "count  60398.000000  6.039800e+04  60398.000000  60398.000000  60398.000000   \n",
       "mean     437.557932  2.012973e+07   2012.902298    486.086911     38.886954   \n",
       "std      118.088390  4.745050e+03      0.477666    928.489892     74.279193   \n",
       "min      214.000000  2.010123e+07   2010.000000      2.290000      0.183200   \n",
       "25%      359.000000  2.013040e+07   2013.000000      7.950000      0.636000   \n",
       "50%      479.000000  2.013071e+07   2013.000000     29.990000      2.399200   \n",
       "75%      529.000000  2.013102e+07   2013.000000    539.990000     43.199200   \n",
       "max      606.000000  2.014013e+07   2014.000000   3578.270000    286.261600   \n",
       "\n",
       "            Freight  \n",
       "count  60398.000000  \n",
       "mean      12.152217  \n",
       "std       23.212248  \n",
       "min        0.057300  \n",
       "25%        0.198800  \n",
       "50%        0.749800  \n",
       "75%       13.499800  \n",
       "max       89.456800  "
      ]
     },
     "execution_count": 43,
     "metadata": {},
     "output_type": "execute_result"
    }
   ],
   "source": [
    "sales.describe()#summaries of all numeric column"
   ]
  },
  {
   "cell_type": "code",
   "execution_count": 48,
   "id": "ecbb9c69-df25-49c7-b27d-484e54835074",
   "metadata": {},
   "outputs": [
    {
     "data": {
      "text/html": [
       "<div>\n",
       "<style scoped>\n",
       "    .dataframe tbody tr th:only-of-type {\n",
       "        vertical-align: middle;\n",
       "    }\n",
       "\n",
       "    .dataframe tbody tr th {\n",
       "        vertical-align: top;\n",
       "    }\n",
       "\n",
       "    .dataframe thead th {\n",
       "        text-align: right;\n",
       "    }\n",
       "</style>\n",
       "<table border=\"1\" class=\"dataframe\">\n",
       "  <thead>\n",
       "    <tr style=\"text-align: right;\">\n",
       "      <th></th>\n",
       "      <th>Host Id</th>\n",
       "      <th>Review Scores Rating (bin)</th>\n",
       "      <th>Zipcode</th>\n",
       "      <th>Beds</th>\n",
       "      <th>Number of Records</th>\n",
       "      <th>Number Of Reviews</th>\n",
       "      <th>Price</th>\n",
       "      <th>Review Scores Rating</th>\n",
       "    </tr>\n",
       "  </thead>\n",
       "  <tbody>\n",
       "    <tr>\n",
       "      <th>count</th>\n",
       "      <td>3.047800e+04</td>\n",
       "      <td>22155.000000</td>\n",
       "      <td>30344.000000</td>\n",
       "      <td>30393.000000</td>\n",
       "      <td>30478.0</td>\n",
       "      <td>30478.000000</td>\n",
       "      <td>30478.000000</td>\n",
       "      <td>22155.000000</td>\n",
       "    </tr>\n",
       "    <tr>\n",
       "      <th>mean</th>\n",
       "      <td>1.273171e+07</td>\n",
       "      <td>90.738659</td>\n",
       "      <td>10584.854831</td>\n",
       "      <td>1.530089</td>\n",
       "      <td>1.0</td>\n",
       "      <td>12.018735</td>\n",
       "      <td>163.589737</td>\n",
       "      <td>91.993230</td>\n",
       "    </tr>\n",
       "    <tr>\n",
       "      <th>std</th>\n",
       "      <td>1.190270e+07</td>\n",
       "      <td>9.059519</td>\n",
       "      <td>921.299397</td>\n",
       "      <td>1.015359</td>\n",
       "      <td>0.0</td>\n",
       "      <td>21.980703</td>\n",
       "      <td>197.785454</td>\n",
       "      <td>8.850373</td>\n",
       "    </tr>\n",
       "    <tr>\n",
       "      <th>min</th>\n",
       "      <td>5.000000e+02</td>\n",
       "      <td>20.000000</td>\n",
       "      <td>1003.000000</td>\n",
       "      <td>0.000000</td>\n",
       "      <td>1.0</td>\n",
       "      <td>0.000000</td>\n",
       "      <td>10.000000</td>\n",
       "      <td>20.000000</td>\n",
       "    </tr>\n",
       "    <tr>\n",
       "      <th>25%</th>\n",
       "      <td>2.701298e+06</td>\n",
       "      <td>85.000000</td>\n",
       "      <td>10017.000000</td>\n",
       "      <td>1.000000</td>\n",
       "      <td>1.0</td>\n",
       "      <td>0.000000</td>\n",
       "      <td>80.000000</td>\n",
       "      <td>89.000000</td>\n",
       "    </tr>\n",
       "    <tr>\n",
       "      <th>50%</th>\n",
       "      <td>8.551693e+06</td>\n",
       "      <td>90.000000</td>\n",
       "      <td>10065.000000</td>\n",
       "      <td>1.000000</td>\n",
       "      <td>1.0</td>\n",
       "      <td>3.000000</td>\n",
       "      <td>125.000000</td>\n",
       "      <td>94.000000</td>\n",
       "    </tr>\n",
       "    <tr>\n",
       "      <th>75%</th>\n",
       "      <td>2.120617e+07</td>\n",
       "      <td>100.000000</td>\n",
       "      <td>11216.000000</td>\n",
       "      <td>2.000000</td>\n",
       "      <td>1.0</td>\n",
       "      <td>13.000000</td>\n",
       "      <td>195.000000</td>\n",
       "      <td>100.000000</td>\n",
       "    </tr>\n",
       "    <tr>\n",
       "      <th>max</th>\n",
       "      <td>4.303307e+07</td>\n",
       "      <td>100.000000</td>\n",
       "      <td>99135.000000</td>\n",
       "      <td>16.000000</td>\n",
       "      <td>1.0</td>\n",
       "      <td>257.000000</td>\n",
       "      <td>10000.000000</td>\n",
       "      <td>100.000000</td>\n",
       "    </tr>\n",
       "  </tbody>\n",
       "</table>\n",
       "</div>"
      ],
      "text/plain": [
       "            Host Id  Review Scores Rating (bin)       Zipcode          Beds  \\\n",
       "count  3.047800e+04                22155.000000  30344.000000  30393.000000   \n",
       "mean   1.273171e+07                   90.738659  10584.854831      1.530089   \n",
       "std    1.190270e+07                    9.059519    921.299397      1.015359   \n",
       "min    5.000000e+02                   20.000000   1003.000000      0.000000   \n",
       "25%    2.701298e+06                   85.000000  10017.000000      1.000000   \n",
       "50%    8.551693e+06                   90.000000  10065.000000      1.000000   \n",
       "75%    2.120617e+07                  100.000000  11216.000000      2.000000   \n",
       "max    4.303307e+07                  100.000000  99135.000000     16.000000   \n",
       "\n",
       "       Number of Records  Number Of Reviews         Price  \\\n",
       "count            30478.0       30478.000000  30478.000000   \n",
       "mean                 1.0          12.018735    163.589737   \n",
       "std                  0.0          21.980703    197.785454   \n",
       "min                  1.0           0.000000     10.000000   \n",
       "25%                  1.0           0.000000     80.000000   \n",
       "50%                  1.0           3.000000    125.000000   \n",
       "75%                  1.0          13.000000    195.000000   \n",
       "max                  1.0         257.000000  10000.000000   \n",
       "\n",
       "       Review Scores Rating  \n",
       "count          22155.000000  \n",
       "mean              91.993230  \n",
       "std                8.850373  \n",
       "min               20.000000  \n",
       "25%               89.000000  \n",
       "50%               94.000000  \n",
       "75%              100.000000  \n",
       "max              100.000000  "
      ]
     },
     "execution_count": 48,
     "metadata": {},
     "output_type": "execute_result"
    }
   ],
   "source": [
    "airbnb.describe()"
   ]
  },
  {
   "cell_type": "code",
   "execution_count": 52,
   "id": "ac0d7801-906c-4c71-9dfd-58dcce4542d7",
   "metadata": {},
   "outputs": [
    {
     "data": {
      "text/html": [
       "<div>\n",
       "<style scoped>\n",
       "    .dataframe tbody tr th:only-of-type {\n",
       "        vertical-align: middle;\n",
       "    }\n",
       "\n",
       "    .dataframe tbody tr th {\n",
       "        vertical-align: top;\n",
       "    }\n",
       "\n",
       "    .dataframe thead th {\n",
       "        text-align: right;\n",
       "    }\n",
       "</style>\n",
       "<table border=\"1\" class=\"dataframe\">\n",
       "  <thead>\n",
       "    <tr style=\"text-align: right;\">\n",
       "      <th></th>\n",
       "      <th>ProductKey</th>\n",
       "      <th>OrderDateKey</th>\n",
       "      <th>CalendarYear</th>\n",
       "      <th>SalesAmount</th>\n",
       "      <th>TaxAmt</th>\n",
       "      <th>Freight</th>\n",
       "    </tr>\n",
       "  </thead>\n",
       "  <tbody>\n",
       "    <tr>\n",
       "      <th>count</th>\n",
       "      <td>60398.000000</td>\n",
       "      <td>6.039800e+04</td>\n",
       "      <td>60398.000000</td>\n",
       "      <td>60398.000000</td>\n",
       "      <td>60398.000000</td>\n",
       "      <td>60398.000000</td>\n",
       "    </tr>\n",
       "    <tr>\n",
       "      <th>mean</th>\n",
       "      <td>437.557932</td>\n",
       "      <td>2.012973e+07</td>\n",
       "      <td>2012.902298</td>\n",
       "      <td>486.086911</td>\n",
       "      <td>38.886954</td>\n",
       "      <td>12.152217</td>\n",
       "    </tr>\n",
       "    <tr>\n",
       "      <th>std</th>\n",
       "      <td>118.088390</td>\n",
       "      <td>4.745050e+03</td>\n",
       "      <td>0.477666</td>\n",
       "      <td>928.489892</td>\n",
       "      <td>74.279193</td>\n",
       "      <td>23.212248</td>\n",
       "    </tr>\n",
       "    <tr>\n",
       "      <th>min</th>\n",
       "      <td>214.000000</td>\n",
       "      <td>2.010123e+07</td>\n",
       "      <td>2010.000000</td>\n",
       "      <td>2.290000</td>\n",
       "      <td>0.183200</td>\n",
       "      <td>0.057300</td>\n",
       "    </tr>\n",
       "    <tr>\n",
       "      <th>25%</th>\n",
       "      <td>359.000000</td>\n",
       "      <td>2.013040e+07</td>\n",
       "      <td>2013.000000</td>\n",
       "      <td>7.950000</td>\n",
       "      <td>0.636000</td>\n",
       "      <td>0.198800</td>\n",
       "    </tr>\n",
       "    <tr>\n",
       "      <th>50%</th>\n",
       "      <td>479.000000</td>\n",
       "      <td>2.013071e+07</td>\n",
       "      <td>2013.000000</td>\n",
       "      <td>29.990000</td>\n",
       "      <td>2.399200</td>\n",
       "      <td>0.749800</td>\n",
       "    </tr>\n",
       "    <tr>\n",
       "      <th>75%</th>\n",
       "      <td>529.000000</td>\n",
       "      <td>2.013102e+07</td>\n",
       "      <td>2013.000000</td>\n",
       "      <td>539.990000</td>\n",
       "      <td>43.199200</td>\n",
       "      <td>13.499800</td>\n",
       "    </tr>\n",
       "    <tr>\n",
       "      <th>max</th>\n",
       "      <td>606.000000</td>\n",
       "      <td>2.014013e+07</td>\n",
       "      <td>2014.000000</td>\n",
       "      <td>3578.270000</td>\n",
       "      <td>286.261600</td>\n",
       "      <td>89.456800</td>\n",
       "    </tr>\n",
       "  </tbody>\n",
       "</table>\n",
       "</div>"
      ],
      "text/plain": [
       "         ProductKey  OrderDateKey  CalendarYear   SalesAmount        TaxAmt  \\\n",
       "count  60398.000000  6.039800e+04  60398.000000  60398.000000  60398.000000   \n",
       "mean     437.557932  2.012973e+07   2012.902298    486.086911     38.886954   \n",
       "std      118.088390  4.745050e+03      0.477666    928.489892     74.279193   \n",
       "min      214.000000  2.010123e+07   2010.000000      2.290000      0.183200   \n",
       "25%      359.000000  2.013040e+07   2013.000000      7.950000      0.636000   \n",
       "50%      479.000000  2.013071e+07   2013.000000     29.990000      2.399200   \n",
       "75%      529.000000  2.013102e+07   2013.000000    539.990000     43.199200   \n",
       "max      606.000000  2.014013e+07   2014.000000   3578.270000    286.261600   \n",
       "\n",
       "            Freight  \n",
       "count  60398.000000  \n",
       "mean      12.152217  \n",
       "std       23.212248  \n",
       "min        0.057300  \n",
       "25%        0.198800  \n",
       "50%        0.749800  \n",
       "75%       13.499800  \n",
       "max       89.456800  "
      ]
     },
     "execution_count": 52,
     "metadata": {},
     "output_type": "execute_result"
    }
   ],
   "source": [
    "sales.describe()"
   ]
  },
  {
   "cell_type": "code",
   "execution_count": 51,
   "id": "ab212012-fe25-4b74-93a2-a70876518f58",
   "metadata": {},
   "outputs": [
    {
     "data": {
      "text/html": [
       "<div>\n",
       "<style scoped>\n",
       "    .dataframe tbody tr th:only-of-type {\n",
       "        vertical-align: middle;\n",
       "    }\n",
       "\n",
       "    .dataframe tbody tr th {\n",
       "        vertical-align: top;\n",
       "    }\n",
       "\n",
       "    .dataframe thead th {\n",
       "        text-align: right;\n",
       "    }\n",
       "</style>\n",
       "<table border=\"1\" class=\"dataframe\">\n",
       "  <thead>\n",
       "    <tr style=\"text-align: right;\">\n",
       "      <th></th>\n",
       "      <th>product</th>\n",
       "      <th>product_subcategory</th>\n",
       "      <th>SalesTerritoryRegion</th>\n",
       "      <th>SalesTerritoryCountry</th>\n",
       "      <th>SalesOrderNumber</th>\n",
       "    </tr>\n",
       "  </thead>\n",
       "  <tbody>\n",
       "    <tr>\n",
       "      <th>count</th>\n",
       "      <td>60398</td>\n",
       "      <td>60398</td>\n",
       "      <td>60398</td>\n",
       "      <td>60398</td>\n",
       "      <td>60398</td>\n",
       "    </tr>\n",
       "    <tr>\n",
       "      <th>unique</th>\n",
       "      <td>130</td>\n",
       "      <td>17</td>\n",
       "      <td>10</td>\n",
       "      <td>6</td>\n",
       "      <td>27659</td>\n",
       "    </tr>\n",
       "    <tr>\n",
       "      <th>top</th>\n",
       "      <td>Water Bottle - 30 oz.</td>\n",
       "      <td>Tires and Tubes</td>\n",
       "      <td>Australia</td>\n",
       "      <td>United States</td>\n",
       "      <td>SO70714</td>\n",
       "    </tr>\n",
       "    <tr>\n",
       "      <th>freq</th>\n",
       "      <td>4244</td>\n",
       "      <td>17332</td>\n",
       "      <td>13345</td>\n",
       "      <td>21344</td>\n",
       "      <td>8</td>\n",
       "    </tr>\n",
       "  </tbody>\n",
       "</table>\n",
       "</div>"
      ],
      "text/plain": [
       "                      product product_subcategory SalesTerritoryRegion  \\\n",
       "count                   60398               60398                60398   \n",
       "unique                    130                  17                   10   \n",
       "top     Water Bottle - 30 oz.     Tires and Tubes            Australia   \n",
       "freq                     4244               17332                13345   \n",
       "\n",
       "       SalesTerritoryCountry SalesOrderNumber  \n",
       "count                  60398            60398  \n",
       "unique                     6            27659  \n",
       "top            United States          SO70714  \n",
       "freq                   21344                8  "
      ]
     },
     "execution_count": 51,
     "metadata": {},
     "output_type": "execute_result"
    }
   ],
   "source": [
    "sales.describe(include = 'object')"
   ]
  },
  {
   "cell_type": "code",
   "execution_count": 53,
   "id": "5d4cb802-f046-4da4-a456-cf4095e1d27d",
   "metadata": {},
   "outputs": [
    {
     "data": {
      "text/html": [
       "<div>\n",
       "<style scoped>\n",
       "    .dataframe tbody tr th:only-of-type {\n",
       "        vertical-align: middle;\n",
       "    }\n",
       "\n",
       "    .dataframe tbody tr th {\n",
       "        vertical-align: top;\n",
       "    }\n",
       "\n",
       "    .dataframe thead th {\n",
       "        text-align: right;\n",
       "    }\n",
       "</style>\n",
       "<table border=\"1\" class=\"dataframe\">\n",
       "  <thead>\n",
       "    <tr style=\"text-align: right;\">\n",
       "      <th></th>\n",
       "      <th>Host Id</th>\n",
       "      <th>Review Scores Rating (bin)</th>\n",
       "      <th>Zipcode</th>\n",
       "      <th>Beds</th>\n",
       "      <th>Number of Records</th>\n",
       "      <th>Number Of Reviews</th>\n",
       "      <th>Price</th>\n",
       "      <th>Review Scores Rating</th>\n",
       "    </tr>\n",
       "  </thead>\n",
       "  <tbody>\n",
       "    <tr>\n",
       "      <th>count</th>\n",
       "      <td>3.047800e+04</td>\n",
       "      <td>22155.000000</td>\n",
       "      <td>30344.000000</td>\n",
       "      <td>30393.000000</td>\n",
       "      <td>30478.0</td>\n",
       "      <td>30478.000000</td>\n",
       "      <td>30478.000000</td>\n",
       "      <td>22155.000000</td>\n",
       "    </tr>\n",
       "    <tr>\n",
       "      <th>mean</th>\n",
       "      <td>1.273171e+07</td>\n",
       "      <td>90.738659</td>\n",
       "      <td>10584.854831</td>\n",
       "      <td>1.530089</td>\n",
       "      <td>1.0</td>\n",
       "      <td>12.018735</td>\n",
       "      <td>163.589737</td>\n",
       "      <td>91.993230</td>\n",
       "    </tr>\n",
       "    <tr>\n",
       "      <th>std</th>\n",
       "      <td>1.190270e+07</td>\n",
       "      <td>9.059519</td>\n",
       "      <td>921.299397</td>\n",
       "      <td>1.015359</td>\n",
       "      <td>0.0</td>\n",
       "      <td>21.980703</td>\n",
       "      <td>197.785454</td>\n",
       "      <td>8.850373</td>\n",
       "    </tr>\n",
       "    <tr>\n",
       "      <th>min</th>\n",
       "      <td>5.000000e+02</td>\n",
       "      <td>20.000000</td>\n",
       "      <td>1003.000000</td>\n",
       "      <td>0.000000</td>\n",
       "      <td>1.0</td>\n",
       "      <td>0.000000</td>\n",
       "      <td>10.000000</td>\n",
       "      <td>20.000000</td>\n",
       "    </tr>\n",
       "    <tr>\n",
       "      <th>10%</th>\n",
       "      <td>7.274437e+05</td>\n",
       "      <td>80.000000</td>\n",
       "      <td>10009.000000</td>\n",
       "      <td>1.000000</td>\n",
       "      <td>1.0</td>\n",
       "      <td>0.000000</td>\n",
       "      <td>60.000000</td>\n",
       "      <td>80.000000</td>\n",
       "    </tr>\n",
       "    <tr>\n",
       "      <th>50%</th>\n",
       "      <td>8.551693e+06</td>\n",
       "      <td>90.000000</td>\n",
       "      <td>10065.000000</td>\n",
       "      <td>1.000000</td>\n",
       "      <td>1.0</td>\n",
       "      <td>3.000000</td>\n",
       "      <td>125.000000</td>\n",
       "      <td>94.000000</td>\n",
       "    </tr>\n",
       "    <tr>\n",
       "      <th>60%</th>\n",
       "      <td>1.216061e+07</td>\n",
       "      <td>95.000000</td>\n",
       "      <td>11205.000000</td>\n",
       "      <td>1.000000</td>\n",
       "      <td>1.0</td>\n",
       "      <td>6.000000</td>\n",
       "      <td>150.000000</td>\n",
       "      <td>96.000000</td>\n",
       "    </tr>\n",
       "    <tr>\n",
       "      <th>90%</th>\n",
       "      <td>3.243044e+07</td>\n",
       "      <td>100.000000</td>\n",
       "      <td>11237.000000</td>\n",
       "      <td>3.000000</td>\n",
       "      <td>1.0</td>\n",
       "      <td>35.000000</td>\n",
       "      <td>275.000000</td>\n",
       "      <td>100.000000</td>\n",
       "    </tr>\n",
       "    <tr>\n",
       "      <th>max</th>\n",
       "      <td>4.303307e+07</td>\n",
       "      <td>100.000000</td>\n",
       "      <td>99135.000000</td>\n",
       "      <td>16.000000</td>\n",
       "      <td>1.0</td>\n",
       "      <td>257.000000</td>\n",
       "      <td>10000.000000</td>\n",
       "      <td>100.000000</td>\n",
       "    </tr>\n",
       "  </tbody>\n",
       "</table>\n",
       "</div>"
      ],
      "text/plain": [
       "            Host Id  Review Scores Rating (bin)       Zipcode          Beds  \\\n",
       "count  3.047800e+04                22155.000000  30344.000000  30393.000000   \n",
       "mean   1.273171e+07                   90.738659  10584.854831      1.530089   \n",
       "std    1.190270e+07                    9.059519    921.299397      1.015359   \n",
       "min    5.000000e+02                   20.000000   1003.000000      0.000000   \n",
       "10%    7.274437e+05                   80.000000  10009.000000      1.000000   \n",
       "50%    8.551693e+06                   90.000000  10065.000000      1.000000   \n",
       "60%    1.216061e+07                   95.000000  11205.000000      1.000000   \n",
       "90%    3.243044e+07                  100.000000  11237.000000      3.000000   \n",
       "max    4.303307e+07                  100.000000  99135.000000     16.000000   \n",
       "\n",
       "       Number of Records  Number Of Reviews         Price  \\\n",
       "count            30478.0       30478.000000  30478.000000   \n",
       "mean                 1.0          12.018735    163.589737   \n",
       "std                  0.0          21.980703    197.785454   \n",
       "min                  1.0           0.000000     10.000000   \n",
       "10%                  1.0           0.000000     60.000000   \n",
       "50%                  1.0           3.000000    125.000000   \n",
       "60%                  1.0           6.000000    150.000000   \n",
       "90%                  1.0          35.000000    275.000000   \n",
       "max                  1.0         257.000000  10000.000000   \n",
       "\n",
       "       Review Scores Rating  \n",
       "count          22155.000000  \n",
       "mean              91.993230  \n",
       "std                8.850373  \n",
       "min               20.000000  \n",
       "10%               80.000000  \n",
       "50%               94.000000  \n",
       "60%               96.000000  \n",
       "90%              100.000000  \n",
       "max              100.000000  "
      ]
     },
     "execution_count": 53,
     "metadata": {},
     "output_type": "execute_result"
    }
   ],
   "source": [
    "airbnb.describe(percentiles= [0.1,0.6, 0.9])"
   ]
  },
  {
   "cell_type": "code",
   "execution_count": 54,
   "id": "a6809a6d-7406-4656-97cc-535093147ddb",
   "metadata": {},
   "outputs": [
    {
     "data": {
      "text/html": [
       "<div>\n",
       "<style scoped>\n",
       "    .dataframe tbody tr th:only-of-type {\n",
       "        vertical-align: middle;\n",
       "    }\n",
       "\n",
       "    .dataframe tbody tr th {\n",
       "        vertical-align: top;\n",
       "    }\n",
       "\n",
       "    .dataframe thead th {\n",
       "        text-align: right;\n",
       "    }\n",
       "</style>\n",
       "<table border=\"1\" class=\"dataframe\">\n",
       "  <thead>\n",
       "    <tr style=\"text-align: right;\">\n",
       "      <th></th>\n",
       "      <th>ProductKey</th>\n",
       "      <th>product</th>\n",
       "      <th>product_subcategory</th>\n",
       "      <th>OrderDateKey</th>\n",
       "      <th>CalendarYear</th>\n",
       "      <th>SalesTerritoryRegion</th>\n",
       "      <th>SalesTerritoryCountry</th>\n",
       "      <th>SalesOrderNumber</th>\n",
       "      <th>SalesAmount</th>\n",
       "      <th>TaxAmt</th>\n",
       "      <th>Freight</th>\n",
       "    </tr>\n",
       "  </thead>\n",
       "  <tbody>\n",
       "    <tr>\n",
       "      <th>0</th>\n",
       "      <td>310</td>\n",
       "      <td>Road-150 Red, 62</td>\n",
       "      <td>Road Bikes</td>\n",
       "      <td>20101229</td>\n",
       "      <td>2010</td>\n",
       "      <td>Canada</td>\n",
       "      <td>Canada</td>\n",
       "      <td>SO43697</td>\n",
       "      <td>3578.2700</td>\n",
       "      <td>286.2616</td>\n",
       "      <td>89.4568</td>\n",
       "    </tr>\n",
       "    <tr>\n",
       "      <th>1</th>\n",
       "      <td>346</td>\n",
       "      <td>Mountain-100 Silver, 44</td>\n",
       "      <td>Mountain Bikes</td>\n",
       "      <td>20101229</td>\n",
       "      <td>2010</td>\n",
       "      <td>France</td>\n",
       "      <td>France</td>\n",
       "      <td>SO43698</td>\n",
       "      <td>3399.9900</td>\n",
       "      <td>271.9992</td>\n",
       "      <td>84.9998</td>\n",
       "    </tr>\n",
       "    <tr>\n",
       "      <th>2</th>\n",
       "      <td>346</td>\n",
       "      <td>Mountain-100 Silver, 44</td>\n",
       "      <td>Mountain Bikes</td>\n",
       "      <td>20101229</td>\n",
       "      <td>2010</td>\n",
       "      <td>Northwest</td>\n",
       "      <td>United States</td>\n",
       "      <td>SO43699</td>\n",
       "      <td>3399.9900</td>\n",
       "      <td>271.9992</td>\n",
       "      <td>84.9998</td>\n",
       "    </tr>\n",
       "    <tr>\n",
       "      <th>3</th>\n",
       "      <td>336</td>\n",
       "      <td>Road-650 Black, 62</td>\n",
       "      <td>Road Bikes</td>\n",
       "      <td>20101229</td>\n",
       "      <td>2010</td>\n",
       "      <td>Southwest</td>\n",
       "      <td>United States</td>\n",
       "      <td>SO43700</td>\n",
       "      <td>699.0982</td>\n",
       "      <td>55.9279</td>\n",
       "      <td>17.4775</td>\n",
       "    </tr>\n",
       "    <tr>\n",
       "      <th>4</th>\n",
       "      <td>346</td>\n",
       "      <td>Mountain-100 Silver, 44</td>\n",
       "      <td>Mountain Bikes</td>\n",
       "      <td>20101229</td>\n",
       "      <td>2010</td>\n",
       "      <td>Australia</td>\n",
       "      <td>Australia</td>\n",
       "      <td>SO43701</td>\n",
       "      <td>3399.9900</td>\n",
       "      <td>271.9992</td>\n",
       "      <td>84.9998</td>\n",
       "    </tr>\n",
       "    <tr>\n",
       "      <th>...</th>\n",
       "      <td>...</td>\n",
       "      <td>...</td>\n",
       "      <td>...</td>\n",
       "      <td>...</td>\n",
       "      <td>...</td>\n",
       "      <td>...</td>\n",
       "      <td>...</td>\n",
       "      <td>...</td>\n",
       "      <td>...</td>\n",
       "      <td>...</td>\n",
       "      <td>...</td>\n",
       "    </tr>\n",
       "    <tr>\n",
       "      <th>60393</th>\n",
       "      <td>485</td>\n",
       "      <td>Fender Set - Mountain</td>\n",
       "      <td>Fenders</td>\n",
       "      <td>20140128</td>\n",
       "      <td>2014</td>\n",
       "      <td>Canada</td>\n",
       "      <td>Canada</td>\n",
       "      <td>SO75122</td>\n",
       "      <td>21.9800</td>\n",
       "      <td>1.7584</td>\n",
       "      <td>0.5495</td>\n",
       "    </tr>\n",
       "    <tr>\n",
       "      <th>60394</th>\n",
       "      <td>225</td>\n",
       "      <td>AWC Logo Cap</td>\n",
       "      <td>Caps</td>\n",
       "      <td>20140128</td>\n",
       "      <td>2014</td>\n",
       "      <td>Canada</td>\n",
       "      <td>Canada</td>\n",
       "      <td>SO75122</td>\n",
       "      <td>8.9900</td>\n",
       "      <td>0.7192</td>\n",
       "      <td>0.2248</td>\n",
       "    </tr>\n",
       "    <tr>\n",
       "      <th>60395</th>\n",
       "      <td>485</td>\n",
       "      <td>Fender Set - Mountain</td>\n",
       "      <td>Fenders</td>\n",
       "      <td>20140128</td>\n",
       "      <td>2014</td>\n",
       "      <td>Canada</td>\n",
       "      <td>Canada</td>\n",
       "      <td>SO75123</td>\n",
       "      <td>21.9800</td>\n",
       "      <td>1.7584</td>\n",
       "      <td>0.5495</td>\n",
       "    </tr>\n",
       "    <tr>\n",
       "      <th>60396</th>\n",
       "      <td>486</td>\n",
       "      <td>All-Purpose Bike Stand</td>\n",
       "      <td>Bike Stands</td>\n",
       "      <td>20140128</td>\n",
       "      <td>2014</td>\n",
       "      <td>Canada</td>\n",
       "      <td>Canada</td>\n",
       "      <td>SO75123</td>\n",
       "      <td>159.0000</td>\n",
       "      <td>12.7200</td>\n",
       "      <td>3.9750</td>\n",
       "    </tr>\n",
       "    <tr>\n",
       "      <th>60397</th>\n",
       "      <td>225</td>\n",
       "      <td>AWC Logo Cap</td>\n",
       "      <td>Caps</td>\n",
       "      <td>20140128</td>\n",
       "      <td>2014</td>\n",
       "      <td>Canada</td>\n",
       "      <td>Canada</td>\n",
       "      <td>SO75123</td>\n",
       "      <td>8.9900</td>\n",
       "      <td>0.7192</td>\n",
       "      <td>0.2248</td>\n",
       "    </tr>\n",
       "  </tbody>\n",
       "</table>\n",
       "<p>60398 rows × 11 columns</p>\n",
       "</div>"
      ],
      "text/plain": [
       "       ProductKey                  product product_subcategory  OrderDateKey  \\\n",
       "0             310         Road-150 Red, 62          Road Bikes      20101229   \n",
       "1             346  Mountain-100 Silver, 44      Mountain Bikes      20101229   \n",
       "2             346  Mountain-100 Silver, 44      Mountain Bikes      20101229   \n",
       "3             336       Road-650 Black, 62          Road Bikes      20101229   \n",
       "4             346  Mountain-100 Silver, 44      Mountain Bikes      20101229   \n",
       "...           ...                      ...                 ...           ...   \n",
       "60393         485    Fender Set - Mountain             Fenders      20140128   \n",
       "60394         225             AWC Logo Cap                Caps      20140128   \n",
       "60395         485    Fender Set - Mountain             Fenders      20140128   \n",
       "60396         486   All-Purpose Bike Stand         Bike Stands      20140128   \n",
       "60397         225             AWC Logo Cap                Caps      20140128   \n",
       "\n",
       "       CalendarYear SalesTerritoryRegion SalesTerritoryCountry  \\\n",
       "0              2010               Canada                Canada   \n",
       "1              2010               France                France   \n",
       "2              2010            Northwest         United States   \n",
       "3              2010            Southwest         United States   \n",
       "4              2010            Australia             Australia   \n",
       "...             ...                  ...                   ...   \n",
       "60393          2014               Canada                Canada   \n",
       "60394          2014               Canada                Canada   \n",
       "60395          2014               Canada                Canada   \n",
       "60396          2014               Canada                Canada   \n",
       "60397          2014               Canada                Canada   \n",
       "\n",
       "      SalesOrderNumber  SalesAmount    TaxAmt  Freight  \n",
       "0              SO43697    3578.2700  286.2616  89.4568  \n",
       "1              SO43698    3399.9900  271.9992  84.9998  \n",
       "2              SO43699    3399.9900  271.9992  84.9998  \n",
       "3              SO43700     699.0982   55.9279  17.4775  \n",
       "4              SO43701    3399.9900  271.9992  84.9998  \n",
       "...                ...          ...       ...      ...  \n",
       "60393          SO75122      21.9800    1.7584   0.5495  \n",
       "60394          SO75122       8.9900    0.7192   0.2248  \n",
       "60395          SO75123      21.9800    1.7584   0.5495  \n",
       "60396          SO75123     159.0000   12.7200   3.9750  \n",
       "60397          SO75123       8.9900    0.7192   0.2248  \n",
       "\n",
       "[60398 rows x 11 columns]"
      ]
     },
     "execution_count": 54,
     "metadata": {},
     "output_type": "execute_result"
    }
   ],
   "source": [
    "sales"
   ]
  },
  {
   "cell_type": "code",
   "execution_count": 55,
   "id": "8433882e-7051-4757-8a1d-f10e1a0616da",
   "metadata": {},
   "outputs": [
    {
     "data": {
      "text/html": [
       "<div>\n",
       "<style scoped>\n",
       "    .dataframe tbody tr th:only-of-type {\n",
       "        vertical-align: middle;\n",
       "    }\n",
       "\n",
       "    .dataframe tbody tr th {\n",
       "        vertical-align: top;\n",
       "    }\n",
       "\n",
       "    .dataframe thead th {\n",
       "        text-align: right;\n",
       "    }\n",
       "</style>\n",
       "<table border=\"1\" class=\"dataframe\">\n",
       "  <thead>\n",
       "    <tr style=\"text-align: right;\">\n",
       "      <th></th>\n",
       "      <th>product</th>\n",
       "      <th>product_subcategory</th>\n",
       "      <th>SalesTerritoryRegion</th>\n",
       "      <th>SalesTerritoryCountry</th>\n",
       "      <th>SalesOrderNumber</th>\n",
       "    </tr>\n",
       "  </thead>\n",
       "  <tbody>\n",
       "    <tr>\n",
       "      <th>count</th>\n",
       "      <td>60398</td>\n",
       "      <td>60398</td>\n",
       "      <td>60398</td>\n",
       "      <td>60398</td>\n",
       "      <td>60398</td>\n",
       "    </tr>\n",
       "    <tr>\n",
       "      <th>unique</th>\n",
       "      <td>130</td>\n",
       "      <td>17</td>\n",
       "      <td>10</td>\n",
       "      <td>6</td>\n",
       "      <td>27659</td>\n",
       "    </tr>\n",
       "    <tr>\n",
       "      <th>top</th>\n",
       "      <td>Water Bottle - 30 oz.</td>\n",
       "      <td>Tires and Tubes</td>\n",
       "      <td>Australia</td>\n",
       "      <td>United States</td>\n",
       "      <td>SO70714</td>\n",
       "    </tr>\n",
       "    <tr>\n",
       "      <th>freq</th>\n",
       "      <td>4244</td>\n",
       "      <td>17332</td>\n",
       "      <td>13345</td>\n",
       "      <td>21344</td>\n",
       "      <td>8</td>\n",
       "    </tr>\n",
       "  </tbody>\n",
       "</table>\n",
       "</div>"
      ],
      "text/plain": [
       "                      product product_subcategory SalesTerritoryRegion  \\\n",
       "count                   60398               60398                60398   \n",
       "unique                    130                  17                   10   \n",
       "top     Water Bottle - 30 oz.     Tires and Tubes            Australia   \n",
       "freq                     4244               17332                13345   \n",
       "\n",
       "       SalesTerritoryCountry SalesOrderNumber  \n",
       "count                  60398            60398  \n",
       "unique                     6            27659  \n",
       "top            United States          SO70714  \n",
       "freq                   21344                8  "
      ]
     },
     "execution_count": 55,
     "metadata": {},
     "output_type": "execute_result"
    }
   ],
   "source": [
    "sales.describe(include = 'object')"
   ]
  },
  {
   "cell_type": "code",
   "execution_count": 56,
   "id": "aaed78e8-c337-4549-bd4a-bbc0d179de8b",
   "metadata": {},
   "outputs": [
    {
     "data": {
      "text/plain": [
       "0            Road Bikes\n",
       "1        Mountain Bikes\n",
       "2        Mountain Bikes\n",
       "3            Road Bikes\n",
       "4        Mountain Bikes\n",
       "              ...      \n",
       "60393           Fenders\n",
       "60394              Caps\n",
       "60395           Fenders\n",
       "60396       Bike Stands\n",
       "60397              Caps\n",
       "Name: product_subcategory, Length: 60398, dtype: object"
      ]
     },
     "execution_count": 56,
     "metadata": {},
     "output_type": "execute_result"
    }
   ],
   "source": [
    "sales['product_subcategory']"
   ]
  },
  {
   "cell_type": "code",
   "execution_count": 58,
   "id": "9f6974c6-05bf-4ca0-a88a-e002804990e6",
   "metadata": {},
   "outputs": [
    {
     "data": {
      "text/plain": [
       "product_subcategory\n",
       "Tires and Tubes      17332\n",
       "Road Bikes            8068\n",
       "Bottles and Cages     7981\n",
       "Helmets               6440\n",
       "Mountain Bikes        4970\n",
       "Jerseys               3332\n",
       "Caps                  2190\n",
       "Touring Bikes         2167\n",
       "Fenders               2121\n",
       "Gloves                1430\n",
       "Shorts                1019\n",
       "Cleaners               908\n",
       "Hydration Packs        733\n",
       "Socks                  568\n",
       "Vests                  562\n",
       "Bike Racks             328\n",
       "Bike Stands            249\n",
       "Name: count, dtype: int64"
      ]
     },
     "execution_count": 58,
     "metadata": {},
     "output_type": "execute_result"
    }
   ],
   "source": [
    "sales['product_subcategory'].value_counts()"
   ]
  },
  {
   "cell_type": "code",
   "execution_count": 61,
   "id": "b4a570d8-9281-4386-aaee-c5cf8a761af8",
   "metadata": {},
   "outputs": [
    {
     "data": {
      "text/plain": [
       "product_subcategory\n",
       "Bike Stands            249\n",
       "Bike Racks             328\n",
       "Vests                  562\n",
       "Socks                  568\n",
       "Hydration Packs        733\n",
       "Cleaners               908\n",
       "Shorts                1019\n",
       "Gloves                1430\n",
       "Fenders               2121\n",
       "Touring Bikes         2167\n",
       "Caps                  2190\n",
       "Jerseys               3332\n",
       "Mountain Bikes        4970\n",
       "Helmets               6440\n",
       "Bottles and Cages     7981\n",
       "Road Bikes            8068\n",
       "Tires and Tubes      17332\n",
       "Name: count, dtype: int64"
      ]
     },
     "execution_count": 61,
     "metadata": {},
     "output_type": "execute_result"
    }
   ],
   "source": [
    "sales['product_subcategory'].value_counts(ascending = True)"
   ]
  },
  {
   "cell_type": "code",
   "execution_count": 62,
   "id": "586c2d34-15b9-4ad5-88b3-022cbb05e07c",
   "metadata": {},
   "outputs": [
    {
     "data": {
      "text/html": [
       "<div>\n",
       "<style scoped>\n",
       "    .dataframe tbody tr th:only-of-type {\n",
       "        vertical-align: middle;\n",
       "    }\n",
       "\n",
       "    .dataframe tbody tr th {\n",
       "        vertical-align: top;\n",
       "    }\n",
       "\n",
       "    .dataframe thead th {\n",
       "        text-align: right;\n",
       "    }\n",
       "</style>\n",
       "<table border=\"1\" class=\"dataframe\">\n",
       "  <thead>\n",
       "    <tr style=\"text-align: right;\">\n",
       "      <th></th>\n",
       "      <th>Host Id</th>\n",
       "      <th>Host Since</th>\n",
       "      <th>Name</th>\n",
       "      <th>Neighbourhood</th>\n",
       "      <th>Property Type</th>\n",
       "      <th>Review Scores Rating (bin)</th>\n",
       "      <th>Room Type</th>\n",
       "      <th>Zipcode</th>\n",
       "      <th>Beds</th>\n",
       "      <th>Number of Records</th>\n",
       "      <th>Number Of Reviews</th>\n",
       "      <th>Price</th>\n",
       "      <th>Review Scores Rating</th>\n",
       "    </tr>\n",
       "  </thead>\n",
       "  <tbody>\n",
       "    <tr>\n",
       "      <th>0</th>\n",
       "      <td>5162530</td>\n",
       "      <td>NaN</td>\n",
       "      <td>1 Bedroom in Prime Williamsburg</td>\n",
       "      <td>Brooklyn</td>\n",
       "      <td>Apartment</td>\n",
       "      <td>NaN</td>\n",
       "      <td>Entire home/apt</td>\n",
       "      <td>11249.0</td>\n",
       "      <td>1.0</td>\n",
       "      <td>1</td>\n",
       "      <td>0</td>\n",
       "      <td>145</td>\n",
       "      <td>NaN</td>\n",
       "    </tr>\n",
       "    <tr>\n",
       "      <th>1</th>\n",
       "      <td>33134899</td>\n",
       "      <td>NaN</td>\n",
       "      <td>Sunny, Private room in Bushwick</td>\n",
       "      <td>Brooklyn</td>\n",
       "      <td>Apartment</td>\n",
       "      <td>NaN</td>\n",
       "      <td>Private room</td>\n",
       "      <td>11206.0</td>\n",
       "      <td>1.0</td>\n",
       "      <td>1</td>\n",
       "      <td>1</td>\n",
       "      <td>37</td>\n",
       "      <td>NaN</td>\n",
       "    </tr>\n",
       "    <tr>\n",
       "      <th>2</th>\n",
       "      <td>39608626</td>\n",
       "      <td>NaN</td>\n",
       "      <td>Sunny Room in Harlem</td>\n",
       "      <td>Manhattan</td>\n",
       "      <td>Apartment</td>\n",
       "      <td>NaN</td>\n",
       "      <td>Private room</td>\n",
       "      <td>10032.0</td>\n",
       "      <td>1.0</td>\n",
       "      <td>1</td>\n",
       "      <td>1</td>\n",
       "      <td>28</td>\n",
       "      <td>NaN</td>\n",
       "    </tr>\n",
       "    <tr>\n",
       "      <th>3</th>\n",
       "      <td>500</td>\n",
       "      <td>26/06/2008</td>\n",
       "      <td>Gorgeous 1 BR with Private Balcony</td>\n",
       "      <td>Manhattan</td>\n",
       "      <td>Apartment</td>\n",
       "      <td>NaN</td>\n",
       "      <td>Entire home/apt</td>\n",
       "      <td>10024.0</td>\n",
       "      <td>3.0</td>\n",
       "      <td>1</td>\n",
       "      <td>0</td>\n",
       "      <td>199</td>\n",
       "      <td>NaN</td>\n",
       "    </tr>\n",
       "    <tr>\n",
       "      <th>4</th>\n",
       "      <td>500</td>\n",
       "      <td>26/06/2008</td>\n",
       "      <td>Trendy Times Square Loft</td>\n",
       "      <td>Manhattan</td>\n",
       "      <td>Apartment</td>\n",
       "      <td>95.0</td>\n",
       "      <td>Private room</td>\n",
       "      <td>10036.0</td>\n",
       "      <td>3.0</td>\n",
       "      <td>1</td>\n",
       "      <td>39</td>\n",
       "      <td>549</td>\n",
       "      <td>96.0</td>\n",
       "    </tr>\n",
       "    <tr>\n",
       "      <th>...</th>\n",
       "      <td>...</td>\n",
       "      <td>...</td>\n",
       "      <td>...</td>\n",
       "      <td>...</td>\n",
       "      <td>...</td>\n",
       "      <td>...</td>\n",
       "      <td>...</td>\n",
       "      <td>...</td>\n",
       "      <td>...</td>\n",
       "      <td>...</td>\n",
       "      <td>...</td>\n",
       "      <td>...</td>\n",
       "      <td>...</td>\n",
       "    </tr>\n",
       "    <tr>\n",
       "      <th>30473</th>\n",
       "      <td>43022976</td>\n",
       "      <td>31/08/2015</td>\n",
       "      <td>10 Mins to Time Square/two floors</td>\n",
       "      <td>Queens</td>\n",
       "      <td>Apartment</td>\n",
       "      <td>NaN</td>\n",
       "      <td>Entire home/apt</td>\n",
       "      <td>11101.0</td>\n",
       "      <td>5.0</td>\n",
       "      <td>1</td>\n",
       "      <td>0</td>\n",
       "      <td>300</td>\n",
       "      <td>NaN</td>\n",
       "    </tr>\n",
       "    <tr>\n",
       "      <th>30474</th>\n",
       "      <td>42993382</td>\n",
       "      <td>31/08/2015</td>\n",
       "      <td>1BR ocean view &amp; F,Q train st</td>\n",
       "      <td>Brooklyn</td>\n",
       "      <td>Apartment</td>\n",
       "      <td>NaN</td>\n",
       "      <td>Private room</td>\n",
       "      <td>11224.0</td>\n",
       "      <td>2.0</td>\n",
       "      <td>1</td>\n",
       "      <td>0</td>\n",
       "      <td>125</td>\n",
       "      <td>NaN</td>\n",
       "    </tr>\n",
       "    <tr>\n",
       "      <th>30475</th>\n",
       "      <td>43033067</td>\n",
       "      <td>31/08/2015</td>\n",
       "      <td>Amazing Private Room</td>\n",
       "      <td>Brooklyn</td>\n",
       "      <td>Other</td>\n",
       "      <td>NaN</td>\n",
       "      <td>Private room</td>\n",
       "      <td>11206.0</td>\n",
       "      <td>1.0</td>\n",
       "      <td>1</td>\n",
       "      <td>0</td>\n",
       "      <td>80</td>\n",
       "      <td>NaN</td>\n",
       "    </tr>\n",
       "    <tr>\n",
       "      <th>30476</th>\n",
       "      <td>43000991</td>\n",
       "      <td>31/08/2015</td>\n",
       "      <td>Charming private female room: UWS</td>\n",
       "      <td>Manhattan</td>\n",
       "      <td>Apartment</td>\n",
       "      <td>NaN</td>\n",
       "      <td>Private room</td>\n",
       "      <td>10025.0</td>\n",
       "      <td>1.0</td>\n",
       "      <td>1</td>\n",
       "      <td>0</td>\n",
       "      <td>35</td>\n",
       "      <td>NaN</td>\n",
       "    </tr>\n",
       "    <tr>\n",
       "      <th>30477</th>\n",
       "      <td>42999189</td>\n",
       "      <td>31/08/2015</td>\n",
       "      <td>Huge Beautiful Bedroom - Astoria</td>\n",
       "      <td>Queens</td>\n",
       "      <td>House</td>\n",
       "      <td>NaN</td>\n",
       "      <td>Private room</td>\n",
       "      <td>11105.0</td>\n",
       "      <td>1.0</td>\n",
       "      <td>1</td>\n",
       "      <td>0</td>\n",
       "      <td>80</td>\n",
       "      <td>NaN</td>\n",
       "    </tr>\n",
       "  </tbody>\n",
       "</table>\n",
       "<p>30478 rows × 13 columns</p>\n",
       "</div>"
      ],
      "text/plain": [
       "        Host Id  Host Since                                Name Neighbourhood  \\\n",
       "0       5162530         NaN     1 Bedroom in Prime Williamsburg      Brooklyn   \n",
       "1      33134899         NaN     Sunny, Private room in Bushwick      Brooklyn   \n",
       "2      39608626         NaN                Sunny Room in Harlem     Manhattan   \n",
       "3           500  26/06/2008  Gorgeous 1 BR with Private Balcony     Manhattan   \n",
       "4           500  26/06/2008            Trendy Times Square Loft     Manhattan   \n",
       "...         ...         ...                                 ...           ...   \n",
       "30473  43022976  31/08/2015   10 Mins to Time Square/two floors        Queens   \n",
       "30474  42993382  31/08/2015       1BR ocean view & F,Q train st      Brooklyn   \n",
       "30475  43033067  31/08/2015                Amazing Private Room      Brooklyn   \n",
       "30476  43000991  31/08/2015   Charming private female room: UWS     Manhattan   \n",
       "30477  42999189  31/08/2015    Huge Beautiful Bedroom - Astoria        Queens   \n",
       "\n",
       "      Property Type  Review Scores Rating (bin)        Room Type  Zipcode  \\\n",
       "0         Apartment                         NaN  Entire home/apt  11249.0   \n",
       "1         Apartment                         NaN     Private room  11206.0   \n",
       "2         Apartment                         NaN     Private room  10032.0   \n",
       "3         Apartment                         NaN  Entire home/apt  10024.0   \n",
       "4         Apartment                        95.0     Private room  10036.0   \n",
       "...             ...                         ...              ...      ...   \n",
       "30473     Apartment                         NaN  Entire home/apt  11101.0   \n",
       "30474     Apartment                         NaN     Private room  11224.0   \n",
       "30475         Other                         NaN     Private room  11206.0   \n",
       "30476     Apartment                         NaN     Private room  10025.0   \n",
       "30477         House                         NaN     Private room  11105.0   \n",
       "\n",
       "       Beds  Number of Records  Number Of Reviews  Price  Review Scores Rating  \n",
       "0       1.0                  1                  0    145                   NaN  \n",
       "1       1.0                  1                  1     37                   NaN  \n",
       "2       1.0                  1                  1     28                   NaN  \n",
       "3       3.0                  1                  0    199                   NaN  \n",
       "4       3.0                  1                 39    549                  96.0  \n",
       "...     ...                ...                ...    ...                   ...  \n",
       "30473   5.0                  1                  0    300                   NaN  \n",
       "30474   2.0                  1                  0    125                   NaN  \n",
       "30475   1.0                  1                  0     80                   NaN  \n",
       "30476   1.0                  1                  0     35                   NaN  \n",
       "30477   1.0                  1                  0     80                   NaN  \n",
       "\n",
       "[30478 rows x 13 columns]"
      ]
     },
     "execution_count": 62,
     "metadata": {},
     "output_type": "execute_result"
    }
   ],
   "source": [
    "airbnb"
   ]
  },
  {
   "cell_type": "code",
   "execution_count": 63,
   "id": "066446e2-fb4a-4973-9756-3750c7f51255",
   "metadata": {},
   "outputs": [
    {
     "data": {
      "text/plain": [
       "0        Apartment\n",
       "1        Apartment\n",
       "2        Apartment\n",
       "3        Apartment\n",
       "4        Apartment\n",
       "           ...    \n",
       "30473    Apartment\n",
       "30474    Apartment\n",
       "30475        Other\n",
       "30476    Apartment\n",
       "30477        House\n",
       "Name: Property Type, Length: 30478, dtype: object"
      ]
     },
     "execution_count": 63,
     "metadata": {},
     "output_type": "execute_result"
    }
   ],
   "source": [
    "airbnb['Property Type']"
   ]
  },
  {
   "cell_type": "code",
   "execution_count": 64,
   "id": "cbbf2c8c-a256-4063-b2f5-ac890734e455",
   "metadata": {},
   "outputs": [
    {
     "data": {
      "text/plain": [
       "Property Type\n",
       "Apartment          27102\n",
       "House               2090\n",
       "Loft                 753\n",
       "Bed & Breakfast      180\n",
       "Townhouse            136\n",
       "Condominium           94\n",
       "Other                 47\n",
       "Dorm                  31\n",
       "Boat                   8\n",
       "Villa                  8\n",
       "Camper/RV              7\n",
       "Bungalow               4\n",
       "Treehouse              4\n",
       "Tent                   4\n",
       "Hut                    2\n",
       "Cabin                  2\n",
       "Lighthouse             1\n",
       "Chalet                 1\n",
       "Castle                 1\n",
       "Name: count, dtype: int64"
      ]
     },
     "execution_count": 64,
     "metadata": {},
     "output_type": "execute_result"
    }
   ],
   "source": [
    "airbnb['Property Type'].value_counts()"
   ]
  },
  {
   "cell_type": "code",
   "execution_count": 65,
   "id": "7fade9c9-73c3-4b88-9817-d2822577064a",
   "metadata": {},
   "outputs": [
    {
     "data": {
      "text/plain": [
       "Index(['Host Id', 'Host Since', 'Name', 'Neighbourhood', 'Property Type',\n",
       "       'Review Scores Rating (bin)', 'Room Type', 'Zipcode', 'Beds',\n",
       "       'Number of Records', 'Number Of Reviews', 'Price',\n",
       "       'Review Scores Rating'],\n",
       "      dtype='object')"
      ]
     },
     "execution_count": 65,
     "metadata": {},
     "output_type": "execute_result"
    }
   ],
   "source": [
    "airbnb.columns"
   ]
  },
  {
   "cell_type": "code",
   "execution_count": 67,
   "id": "555d4c8e-087b-46b8-95c2-7e5584555ed6",
   "metadata": {},
   "outputs": [
    {
     "data": {
      "text/plain": [
       "Neighbourhood  Property Type  \n",
       "Manhattan      Apartment          15433\n",
       "Brooklyn       Apartment           9740\n",
       "Queens         Apartment           1659\n",
       "Brooklyn       House               1202\n",
       "Queens         House                522\n",
       "Brooklyn       Loft                 502\n",
       "Manhattan      Loft                 227\n",
       "Bronx          Apartment            218\n",
       "Manhattan      House                168\n",
       "Bronx          House                110\n",
       "Staten Island  House                 88\n",
       "Brooklyn       Townhouse             79\n",
       "               Bed & Breakfast       76\n",
       "Manhattan      Bed & Breakfast       60\n",
       "               Condominium           56\n",
       "Staten Island  Apartment             52\n",
       "Manhattan      Townhouse             45\n",
       "Queens         Bed & Breakfast       36\n",
       "Brooklyn       Condominium           30\n",
       "Manhattan      Other                 23\n",
       "Brooklyn       Dorm                  19\n",
       "Queens         Loft                  17\n",
       "Brooklyn       Other                 16\n",
       "Queens         Townhouse              8\n",
       "               Dorm                   6\n",
       "               Other                  6\n",
       "Bronx          Bed & Breakfast        6\n",
       "Manhattan      Dorm                   6\n",
       "Bronx          Loft                   6\n",
       "Queens         Camper/RV              5\n",
       "               Boat                   5\n",
       "               Condominium            5\n",
       "               Villa                  4\n",
       "Bronx          Condominium            3\n",
       "Manhattan      Villa                  3\n",
       "Brooklyn       Tent                   3\n",
       "Queens         Bungalow               3\n",
       "Staten Island  Other                  2\n",
       "               Bed & Breakfast        2\n",
       "Bronx          Townhouse              2\n",
       "Staten Island  Townhouse              2\n",
       "Brooklyn       Treehouse              2\n",
       "Manhattan      Treehouse              2\n",
       "               Boat                   2\n",
       "Brooklyn       Lighthouse             1\n",
       "Manhattan      Cabin                  1\n",
       "Staten Island  Loft                   1\n",
       "Manhattan      Hut                    1\n",
       "Brooklyn       Villa                  1\n",
       "Manhattan      Tent                   1\n",
       "Brooklyn       Boat                   1\n",
       "Queens         Cabin                  1\n",
       "Brooklyn       Bungalow               1\n",
       "Queens         Hut                    1\n",
       "Brooklyn       Camper/RV              1\n",
       "               Chalet                 1\n",
       "Manhattan      Camper/RV              1\n",
       "               Castle                 1\n",
       "Name: count, dtype: int64"
      ]
     },
     "execution_count": 67,
     "metadata": {},
     "output_type": "execute_result"
    }
   ],
   "source": [
    "airbnb[['Neighbourhood','Property Type']].value_counts()"
   ]
  },
  {
   "cell_type": "code",
   "execution_count": 73,
   "id": "4f58f2ea-2336-4a6c-9670-5c2eea631782",
   "metadata": {},
   "outputs": [
    {
     "data": {
      "text/plain": [
       "SalesTerritoryCountry  product_subcategory\n",
       "United States          Tires and Tubes        6062\n",
       "Australia              Tires and Tubes        3300\n",
       "United States          Bottles and Cages      2951\n",
       "Canada                 Tires and Tubes        2729\n",
       "Australia              Road Bikes             2603\n",
       "                                              ... \n",
       "France                 Bike Racks               25\n",
       "Germany                Bike Racks               24\n",
       "                       Bike Stands              20\n",
       "France                 Bike Stands              19\n",
       "Germany                Shorts                    9\n",
       "Name: count, Length: 102, dtype: int64"
      ]
     },
     "execution_count": 73,
     "metadata": {},
     "output_type": "execute_result"
    }
   ],
   "source": [
    "sales[['SalesTerritoryCountry','product_subcategory']].value_counts()"
   ]
  },
  {
   "cell_type": "code",
   "execution_count": 74,
   "id": "34cf5dae-5780-4abd-be41-bb4aef1c95c5",
   "metadata": {},
   "outputs": [
    {
     "data": {
      "text/plain": [
       "SalesTerritoryCountry  product_subcategory\n",
       "Germany                Shorts                    9\n",
       "France                 Bike Stands              19\n",
       "Germany                Bike Stands              20\n",
       "                       Bike Racks               24\n",
       "France                 Bike Racks               25\n",
       "                                              ... \n",
       "Australia              Road Bikes             2603\n",
       "Canada                 Tires and Tubes        2729\n",
       "United States          Bottles and Cages      2951\n",
       "Australia              Tires and Tubes        3300\n",
       "United States          Tires and Tubes        6062\n",
       "Name: count, Length: 102, dtype: int64"
      ]
     },
     "execution_count": 74,
     "metadata": {},
     "output_type": "execute_result"
    }
   ],
   "source": [
    "sales[['SalesTerritoryCountry','product_subcategory']].value_counts(ascending = True)"
   ]
  },
  {
   "cell_type": "code",
   "execution_count": 72,
   "id": "e3ba79a5-b067-43e4-8a00-0fda37b4476a",
   "metadata": {},
   "outputs": [
    {
     "data": {
      "text/plain": [
       "Index(['ProductKey', 'product', 'product_subcategory', 'OrderDateKey',\n",
       "       'CalendarYear', 'SalesTerritoryRegion', 'SalesTerritoryCountry',\n",
       "       'SalesOrderNumber', 'SalesAmount', 'TaxAmt', 'Freight'],\n",
       "      dtype='object')"
      ]
     },
     "execution_count": 72,
     "metadata": {},
     "output_type": "execute_result"
    }
   ],
   "source": [
    "sales.columns\n"
   ]
  },
  {
   "cell_type": "code",
   "execution_count": 75,
   "id": "e3225db7-7bec-4c5a-9c5a-8640e9cec10a",
   "metadata": {},
   "outputs": [
    {
     "data": {
      "text/html": [
       "<div>\n",
       "<style scoped>\n",
       "    .dataframe tbody tr th:only-of-type {\n",
       "        vertical-align: middle;\n",
       "    }\n",
       "\n",
       "    .dataframe tbody tr th {\n",
       "        vertical-align: top;\n",
       "    }\n",
       "\n",
       "    .dataframe thead th {\n",
       "        text-align: right;\n",
       "    }\n",
       "</style>\n",
       "<table border=\"1\" class=\"dataframe\">\n",
       "  <thead>\n",
       "    <tr style=\"text-align: right;\">\n",
       "      <th></th>\n",
       "      <th>work_year</th>\n",
       "      <th>experience_level</th>\n",
       "      <th>employment_type</th>\n",
       "      <th>job_title</th>\n",
       "      <th>salary</th>\n",
       "      <th>salary_currency</th>\n",
       "      <th>salary_in_usd</th>\n",
       "      <th>employee_residence</th>\n",
       "      <th>remote_ratio</th>\n",
       "      <th>company_location</th>\n",
       "      <th>company_size</th>\n",
       "    </tr>\n",
       "  </thead>\n",
       "  <tbody>\n",
       "    <tr>\n",
       "      <th>0</th>\n",
       "      <td>2023</td>\n",
       "      <td>EX</td>\n",
       "      <td>FT</td>\n",
       "      <td>Data Science Director</td>\n",
       "      <td>212000</td>\n",
       "      <td>USD</td>\n",
       "      <td>212000</td>\n",
       "      <td>US</td>\n",
       "      <td>0</td>\n",
       "      <td>US</td>\n",
       "      <td>M</td>\n",
       "    </tr>\n",
       "    <tr>\n",
       "      <th>1</th>\n",
       "      <td>2023</td>\n",
       "      <td>EX</td>\n",
       "      <td>FT</td>\n",
       "      <td>Data Science Director</td>\n",
       "      <td>190000</td>\n",
       "      <td>USD</td>\n",
       "      <td>190000</td>\n",
       "      <td>US</td>\n",
       "      <td>0</td>\n",
       "      <td>US</td>\n",
       "      <td>M</td>\n",
       "    </tr>\n",
       "    <tr>\n",
       "      <th>2</th>\n",
       "      <td>2023</td>\n",
       "      <td>MI</td>\n",
       "      <td>FT</td>\n",
       "      <td>Business Intelligence Engineer</td>\n",
       "      <td>35000</td>\n",
       "      <td>GBP</td>\n",
       "      <td>43064</td>\n",
       "      <td>GB</td>\n",
       "      <td>0</td>\n",
       "      <td>GB</td>\n",
       "      <td>M</td>\n",
       "    </tr>\n",
       "    <tr>\n",
       "      <th>3</th>\n",
       "      <td>2023</td>\n",
       "      <td>MI</td>\n",
       "      <td>FT</td>\n",
       "      <td>Business Intelligence Engineer</td>\n",
       "      <td>35000</td>\n",
       "      <td>GBP</td>\n",
       "      <td>43064</td>\n",
       "      <td>GB</td>\n",
       "      <td>0</td>\n",
       "      <td>GB</td>\n",
       "      <td>M</td>\n",
       "    </tr>\n",
       "    <tr>\n",
       "      <th>4</th>\n",
       "      <td>2023</td>\n",
       "      <td>SE</td>\n",
       "      <td>FT</td>\n",
       "      <td>Machine Learning Engineer</td>\n",
       "      <td>245700</td>\n",
       "      <td>USD</td>\n",
       "      <td>245700</td>\n",
       "      <td>US</td>\n",
       "      <td>0</td>\n",
       "      <td>US</td>\n",
       "      <td>M</td>\n",
       "    </tr>\n",
       "    <tr>\n",
       "      <th>...</th>\n",
       "      <td>...</td>\n",
       "      <td>...</td>\n",
       "      <td>...</td>\n",
       "      <td>...</td>\n",
       "      <td>...</td>\n",
       "      <td>...</td>\n",
       "      <td>...</td>\n",
       "      <td>...</td>\n",
       "      <td>...</td>\n",
       "      <td>...</td>\n",
       "      <td>...</td>\n",
       "    </tr>\n",
       "    <tr>\n",
       "      <th>8800</th>\n",
       "      <td>2020</td>\n",
       "      <td>SE</td>\n",
       "      <td>FT</td>\n",
       "      <td>Data Scientist</td>\n",
       "      <td>412000</td>\n",
       "      <td>USD</td>\n",
       "      <td>412000</td>\n",
       "      <td>US</td>\n",
       "      <td>100</td>\n",
       "      <td>US</td>\n",
       "      <td>L</td>\n",
       "    </tr>\n",
       "    <tr>\n",
       "      <th>8801</th>\n",
       "      <td>2021</td>\n",
       "      <td>MI</td>\n",
       "      <td>FT</td>\n",
       "      <td>Principal Data Scientist</td>\n",
       "      <td>151000</td>\n",
       "      <td>USD</td>\n",
       "      <td>151000</td>\n",
       "      <td>US</td>\n",
       "      <td>100</td>\n",
       "      <td>US</td>\n",
       "      <td>L</td>\n",
       "    </tr>\n",
       "    <tr>\n",
       "      <th>8802</th>\n",
       "      <td>2020</td>\n",
       "      <td>EN</td>\n",
       "      <td>FT</td>\n",
       "      <td>Data Scientist</td>\n",
       "      <td>105000</td>\n",
       "      <td>USD</td>\n",
       "      <td>105000</td>\n",
       "      <td>US</td>\n",
       "      <td>100</td>\n",
       "      <td>US</td>\n",
       "      <td>S</td>\n",
       "    </tr>\n",
       "    <tr>\n",
       "      <th>8803</th>\n",
       "      <td>2020</td>\n",
       "      <td>EN</td>\n",
       "      <td>CT</td>\n",
       "      <td>Business Data Analyst</td>\n",
       "      <td>100000</td>\n",
       "      <td>USD</td>\n",
       "      <td>100000</td>\n",
       "      <td>US</td>\n",
       "      <td>100</td>\n",
       "      <td>US</td>\n",
       "      <td>L</td>\n",
       "    </tr>\n",
       "    <tr>\n",
       "      <th>8804</th>\n",
       "      <td>2021</td>\n",
       "      <td>SE</td>\n",
       "      <td>FT</td>\n",
       "      <td>Data Science Manager</td>\n",
       "      <td>7000000</td>\n",
       "      <td>INR</td>\n",
       "      <td>94665</td>\n",
       "      <td>IN</td>\n",
       "      <td>50</td>\n",
       "      <td>IN</td>\n",
       "      <td>L</td>\n",
       "    </tr>\n",
       "  </tbody>\n",
       "</table>\n",
       "<p>8805 rows × 11 columns</p>\n",
       "</div>"
      ],
      "text/plain": [
       "      work_year experience_level employment_type  \\\n",
       "0          2023               EX              FT   \n",
       "1          2023               EX              FT   \n",
       "2          2023               MI              FT   \n",
       "3          2023               MI              FT   \n",
       "4          2023               SE              FT   \n",
       "...         ...              ...             ...   \n",
       "8800       2020               SE              FT   \n",
       "8801       2021               MI              FT   \n",
       "8802       2020               EN              FT   \n",
       "8803       2020               EN              CT   \n",
       "8804       2021               SE              FT   \n",
       "\n",
       "                           job_title   salary salary_currency  salary_in_usd  \\\n",
       "0              Data Science Director   212000             USD         212000   \n",
       "1              Data Science Director   190000             USD         190000   \n",
       "2     Business Intelligence Engineer    35000             GBP          43064   \n",
       "3     Business Intelligence Engineer    35000             GBP          43064   \n",
       "4          Machine Learning Engineer   245700             USD         245700   \n",
       "...                              ...      ...             ...            ...   \n",
       "8800                  Data Scientist   412000             USD         412000   \n",
       "8801        Principal Data Scientist   151000             USD         151000   \n",
       "8802                  Data Scientist   105000             USD         105000   \n",
       "8803           Business Data Analyst   100000             USD         100000   \n",
       "8804            Data Science Manager  7000000             INR          94665   \n",
       "\n",
       "     employee_residence  remote_ratio company_location company_size  \n",
       "0                    US             0               US            M  \n",
       "1                    US             0               US            M  \n",
       "2                    GB             0               GB            M  \n",
       "3                    GB             0               GB            M  \n",
       "4                    US             0               US            M  \n",
       "...                 ...           ...              ...          ...  \n",
       "8800                 US           100               US            L  \n",
       "8801                 US           100               US            L  \n",
       "8802                 US           100               US            S  \n",
       "8803                 US           100               US            L  \n",
       "8804                 IN            50               IN            L  \n",
       "\n",
       "[8805 rows x 11 columns]"
      ]
     },
     "execution_count": 75,
     "metadata": {},
     "output_type": "execute_result"
    }
   ],
   "source": [
    "salaries"
   ]
  },
  {
   "cell_type": "code",
   "execution_count": 76,
   "id": "0fc48e75-92f8-4469-94a4-fe17e923b804",
   "metadata": {},
   "outputs": [
    {
     "data": {
      "text/plain": [
       "Index(['work_year', 'experience_level', 'employment_type', 'job_title',\n",
       "       'salary', 'salary_currency', 'salary_in_usd', 'employee_residence',\n",
       "       'remote_ratio', 'company_location', 'company_size'],\n",
       "      dtype='object')"
      ]
     },
     "execution_count": 76,
     "metadata": {},
     "output_type": "execute_result"
    }
   ],
   "source": [
    "salaries.columns"
   ]
  },
  {
   "cell_type": "code",
   "execution_count": 77,
   "id": "8bad1d7b-c523-4b39-8023-77b5f31fcc1d",
   "metadata": {},
   "outputs": [
    {
     "data": {
      "text/plain": [
       "0       212000\n",
       "1       190000\n",
       "2        43064\n",
       "3        43064\n",
       "4       245700\n",
       "         ...  \n",
       "8800    412000\n",
       "8801    151000\n",
       "8802    105000\n",
       "8803    100000\n",
       "8804     94665\n",
       "Name: salary_in_usd, Length: 8805, dtype: int64"
      ]
     },
     "execution_count": 77,
     "metadata": {},
     "output_type": "execute_result"
    }
   ],
   "source": [
    "salaries['salary_in_usd']"
   ]
  },
  {
   "cell_type": "code",
   "execution_count": 78,
   "id": "73144f59-68e0-46d3-a4e2-9916271db589",
   "metadata": {},
   "outputs": [
    {
     "data": {
      "text/plain": [
       "salary_in_usd\n",
       "150000    188\n",
       "130000    179\n",
       "160000    174\n",
       "100000    157\n",
       "120000    154\n",
       "         ... \n",
       "277300      1\n",
       "213300      1\n",
       "184250      1\n",
       "154440      1\n",
       "94665       1\n",
       "Name: count, Length: 1768, dtype: int64"
      ]
     },
     "execution_count": 78,
     "metadata": {},
     "output_type": "execute_result"
    }
   ],
   "source": [
    "salaries['salary_in_usd'].value_counts()"
   ]
  },
  {
   "cell_type": "code",
   "execution_count": 85,
   "id": "7d11cb56-d47c-4408-a7d2-c6c4c624abab",
   "metadata": {},
   "outputs": [
    {
     "data": {
      "text/plain": [
       "job_title                        salary_in_usd  employee_residence  experience_level\n",
       "Data Engineer                    160000         US                  SE                  48\n",
       "Applied Scientist                136000         US                  SE                  48\n",
       "Data Scientist                   160000         US                  SE                  44\n",
       "Data Engineer                    130000         US                  SE                  44\n",
       "Data Scientist                   140000         US                  SE                  38\n",
       "                                                                                        ..\n",
       "Data Engineer                    127000         US                  MI                   1\n",
       "                                 127600         US                  SE                   1\n",
       "                                 128250         US                  SE                   1\n",
       "                                 128750         US                  SE                   1\n",
       "Staff Machine Learning Engineer  185000         US                  SE                   1\n",
       "Name: count, Length: 4278, dtype: int64"
      ]
     },
     "execution_count": 85,
     "metadata": {},
     "output_type": "execute_result"
    }
   ],
   "source": [
    "salaries[['job_title','salary_in_usd','employee_residence','experience_level']].value_counts()"
   ]
  },
  {
   "cell_type": "code",
   "execution_count": null,
   "id": "cd414ace-feb0-4941-a583-f199480239ff",
   "metadata": {},
   "outputs": [],
   "source": []
  }
 ],
 "metadata": {
  "kernelspec": {
   "display_name": "Python 3 (ipykernel)",
   "language": "python",
   "name": "python3"
  },
  "language_info": {
   "codemirror_mode": {
    "name": "ipython",
    "version": 3
   },
   "file_extension": ".py",
   "mimetype": "text/x-python",
   "name": "python",
   "nbconvert_exporter": "python",
   "pygments_lexer": "ipython3",
   "version": "3.11.7"
  }
 },
 "nbformat": 4,
 "nbformat_minor": 5
}
